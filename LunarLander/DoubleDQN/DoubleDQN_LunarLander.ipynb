{
  "cells": [
    {
      "cell_type": "markdown",
      "id": "IXWK6p4vlKqm",
      "metadata": {
        "id": "IXWK6p4vlKqm"
      },
      "source": [
        "# Lunar Lander — Double DQN\n",
        "\n",
        "*Enrique Favila Martínez, 2025*\n",
        "\n",
        "The purpose of this notebook is to now train a **Double DQN** agent to solve Gymnasium's `LunarLander-v3`.\n",
        "\n",
        "The notebook is structured for better understanding:\n",
        "1. Set-up & imports  \n",
        "2. Hyper-parameters (Feel free to tweak)  \n",
        "3. Replay buffer  \n",
        "4. Neural network  \n",
        "5. Agent helpers (ε-greedy + optimisation)  \n",
        "6. Evaluation  \n",
        "7. Training loop & plotting  \n",
        "8. Run training *and see how it learns*\n",
        "9. Test the trained model on different terrains\n",
        "\n"
      ]
    },
    {
      "cell_type": "markdown",
      "id": "0MvCtn4CQZnL",
      "metadata": {
        "id": "0MvCtn4CQZnL"
      },
      "source": [
        "## What is a **Double Deep Q-Network**?\n",
        "\n",
        "A **Double DQN** is a small—but powerful—upgrade to the original *Deep Q-Network (DQN)* that cures an optimism bug.\n",
        "\n",
        "---\n",
        "\n",
        "### The optimism bug in vanilla DQN\n",
        "1. **Select & judge with the same brain**  \n",
        "   *Plain DQN* uses **one** network to  \n",
        "   `argmax_a Q_online(s', a)` **and** to evaluate that action.  \n",
        "2. **Result → inflated Q-values**  \n",
        "   By choosing *and* scoring, the network keeps rewarding its own mistakes, so estimates drift too high and learning can wobble.\n",
        "\n",
        "---\n",
        "\n",
        "### How Double DQN fixes it\n",
        "| Role | Network | What it does |\n",
        "|------|---------|--------------|\n",
        "| **Action selector** | *Online (policy) net* | `a* ← argmax_a Q_online(s', a)` |\n",
        "| **Action evaluator** | *Target net* (lagged copy) | `target = r + γ Q_target(s', a*)` |\n",
        "\n",
        "*Two minds:*  \n",
        "*One* picks the move, the *other* assigns the score → no self-flattery.\n",
        "\n",
        "---\n",
        "\n",
        "### Why we use it in Lunar Lander\n",
        "* **Stabler learning curves** – fewer reward spikes & crashes.  \n",
        "* **Better final scores** – ships typically “solve” (≥ 200 avg reward) faster.  \n",
        "* **Negligible overhead** – just one extra forward pass per update.\n",
        "\n",
        "*Bottom line:* Double DQN lands the rocket sooner while keeping the code almost as simple as plain DQN.\n"
      ]
    },
    {
      "cell_type": "markdown",
      "id": "5bef6a85",
      "metadata": {},
      "source": [
        "##  Install required packages\n",
        "\n",
        "Swig is a library needed for Gymansium which is the environment that our agent use to learn, by reading the environment properties.\n",
        "\n",
        "(*position, velocity, pad to land, ship legs, boosters; as a vector*)\n"
      ]
    },
    {
      "cell_type": "code",
      "execution_count": 1,
      "id": "nREQJ_bZlXmK",
      "metadata": {
        "colab": {
          "base_uri": "https://localhost:8080/"
        },
        "id": "nREQJ_bZlXmK",
        "outputId": "e2f9b6dd-c698-40ce-bd64-38e3277705f7"
      },
      "outputs": [
        {
          "name": "stdout",
          "output_type": "stream",
          "text": [
            "Collecting swig\n",
            "  Downloading swig-4.3.1-py3-none-macosx_10_9_universal2.whl.metadata (3.5 kB)\n",
            "Downloading swig-4.3.1-py3-none-macosx_10_9_universal2.whl (2.6 MB)\n",
            "\u001b[2K   \u001b[90m━━━━━━━━━━━━━━━━━━━━━━━━━━━━━━━━━━━━━━━━\u001b[0m \u001b[32m2.6/2.6 MB\u001b[0m \u001b[31m24.5 MB/s\u001b[0m eta \u001b[36m0:00:00\u001b[0m\n",
            "\u001b[?25hInstalling collected packages: swig\n",
            "Successfully installed swig-4.3.1\n",
            "Note: you may need to restart the kernel to use updated packages.\n",
            "Requirement already satisfied: gymnasium[box2d] in /Users/enriquef/anaconda3/envs/virtualenv/lib/python3.9/site-packages (1.1.1)\n",
            "Requirement already satisfied: numpy>=1.21.0 in /Users/enriquef/anaconda3/envs/virtualenv/lib/python3.9/site-packages (from gymnasium[box2d]) (2.0.2)\n",
            "Requirement already satisfied: cloudpickle>=1.2.0 in /Users/enriquef/anaconda3/envs/virtualenv/lib/python3.9/site-packages (from gymnasium[box2d]) (3.1.1)\n",
            "Requirement already satisfied: importlib-metadata>=4.8.0 in /Users/enriquef/anaconda3/envs/virtualenv/lib/python3.9/site-packages (from gymnasium[box2d]) (8.7.0)\n",
            "Requirement already satisfied: typing-extensions>=4.3.0 in /Users/enriquef/anaconda3/envs/virtualenv/lib/python3.9/site-packages (from gymnasium[box2d]) (4.14.0)\n",
            "Requirement already satisfied: farama-notifications>=0.0.1 in /Users/enriquef/anaconda3/envs/virtualenv/lib/python3.9/site-packages (from gymnasium[box2d]) (0.0.4)\n",
            "Collecting box2d-py==2.3.5 (from gymnasium[box2d])\n",
            "  Downloading box2d-py-2.3.5.tar.gz (374 kB)\n",
            "  Preparing metadata (setup.py) ... \u001b[?25ldone\n",
            "\u001b[?25hRequirement already satisfied: pygame>=2.1.3 in /Users/enriquef/anaconda3/envs/virtualenv/lib/python3.9/site-packages (from gymnasium[box2d]) (2.6.1)\n",
            "Requirement already satisfied: swig==4.* in /Users/enriquef/anaconda3/envs/virtualenv/lib/python3.9/site-packages (from gymnasium[box2d]) (4.3.1)\n",
            "Requirement already satisfied: zipp>=3.20 in /Users/enriquef/anaconda3/envs/virtualenv/lib/python3.9/site-packages (from importlib-metadata>=4.8.0->gymnasium[box2d]) (3.21.0)\n",
            "Building wheels for collected packages: box2d-py\n",
            "\u001b[33m  DEPRECATION: Building 'box2d-py' using the legacy setup.py bdist_wheel mechanism, which will be removed in a future version. pip 25.3 will enforce this behaviour change. A possible replacement is to use the standardized build interface by setting the `--use-pep517` option, (possibly combined with `--no-build-isolation`), or adding a `pyproject.toml` file to the source tree of 'box2d-py'. Discussion can be found at https://github.com/pypa/pip/issues/6334\u001b[0m\u001b[33m\n",
            "\u001b[0m  Building wheel for box2d-py (setup.py) ... \u001b[?25lerror\n",
            "  \u001b[1;31merror\u001b[0m: \u001b[1msubprocess-exited-with-error\u001b[0m\n",
            "  \n",
            "  \u001b[31m×\u001b[0m \u001b[32mpython setup.py bdist_wheel\u001b[0m did not run successfully.\n",
            "  \u001b[31m│\u001b[0m exit code: \u001b[1;36m1\u001b[0m\n",
            "  \u001b[31m╰─>\u001b[0m \u001b[31m[43 lines of output]\u001b[0m\n",
            "  \u001b[31m   \u001b[0m Using setuptools (version 72.1.0).\n",
            "  \u001b[31m   \u001b[0m /Users/enriquef/anaconda3/envs/virtualenv/lib/python3.9/site-packages/setuptools/_distutils/dist.py:268: UserWarning: Unknown distribution option: 'test_suite'\n",
            "  \u001b[31m   \u001b[0m   warnings.warn(msg)\n",
            "  \u001b[31m   \u001b[0m running bdist_wheel\n",
            "  \u001b[31m   \u001b[0m running build\n",
            "  \u001b[31m   \u001b[0m running build_py\n",
            "  \u001b[31m   \u001b[0m creating build\n",
            "  \u001b[31m   \u001b[0m creating build/lib.macosx-11.1-arm64-cpython-39\n",
            "  \u001b[31m   \u001b[0m creating build/lib.macosx-11.1-arm64-cpython-39/Box2D\n",
            "  \u001b[31m   \u001b[0m copying library/Box2D/Box2D.py -> build/lib.macosx-11.1-arm64-cpython-39/Box2D\n",
            "  \u001b[31m   \u001b[0m copying library/Box2D/__init__.py -> build/lib.macosx-11.1-arm64-cpython-39/Box2D\n",
            "  \u001b[31m   \u001b[0m creating build/lib.macosx-11.1-arm64-cpython-39/Box2D/b2\n",
            "  \u001b[31m   \u001b[0m copying library/Box2D/b2/__init__.py -> build/lib.macosx-11.1-arm64-cpython-39/Box2D/b2\n",
            "  \u001b[31m   \u001b[0m running build_ext\n",
            "  \u001b[31m   \u001b[0m building 'Box2D._Box2D' extension\n",
            "  \u001b[31m   \u001b[0m swigging Box2D/Box2D.i to Box2D/Box2D_wrap.cpp\n",
            "  \u001b[31m   \u001b[0m swig -python -c++ -IBox2D -small -O -includeall -ignoremissing -w201 -globals b2Globals -outdir library/Box2D -keyword -w511 -D_SWIG_KWARGS -o Box2D/Box2D_wrap.cpp Box2D/Box2D.i\n",
            "  \u001b[31m   \u001b[0m Box2D/Common/b2Math.h:67: Warning 302: Redefinition of identifier 'b2Vec2' by %extend ignored,\n",
            "  \u001b[31m   \u001b[0m Box2D/Box2D_math.i:47: Warning 302: %extend definition of 'b2Vec2'.\n",
            "  \u001b[31m   \u001b[0m Box2D/Common/b2Math.h:158: Warning 302: Redefinition of identifier 'b2Vec3' by %extend ignored,\n",
            "  \u001b[31m   \u001b[0m Box2D/Box2D_math.i:168: Warning 302: %extend definition of 'b2Vec3'.\n",
            "  \u001b[31m   \u001b[0m Box2D/Common/b2Math.h:197: Warning 302: Redefinition of identifier 'b2Mat22' by %extend ignored,\n",
            "  \u001b[31m   \u001b[0m Box2D/Box2D_math.i:301: Warning 302: %extend definition of 'b2Mat22'.\n",
            "  \u001b[31m   \u001b[0m Box2D/Common/b2Math.h:271: Warning 302: Redefinition of identifier 'b2Mat33' by %extend ignored,\n",
            "  \u001b[31m   \u001b[0m Box2D/Box2D_math.i:372: Warning 302: %extend definition of 'b2Mat33'.\n",
            "  \u001b[31m   \u001b[0m Box2D/Collision/b2DynamicTree.h:44: Warning 312: Nested union not currently supported (ignored).\n",
            "  \u001b[31m   \u001b[0m Box2D/Common/b2Settings.h:144: Warning 506: Can't wrap varargs with keyword arguments enabled\n",
            "  \u001b[31m   \u001b[0m Box2D/Common/b2Math.h:91: Warning 509: Overloaded method b2Vec2::operator ()(int32) effectively ignored,\n",
            "  \u001b[31m   \u001b[0m Box2D/Common/b2Math.h:85: Warning 509: as it is shadowed by b2Vec2::operator ()(int32) const.\n",
            "  \u001b[31m   \u001b[0m creating build/temp.macosx-11.1-arm64-cpython-39\n",
            "  \u001b[31m   \u001b[0m creating build/temp.macosx-11.1-arm64-cpython-39/Box2D\n",
            "  \u001b[31m   \u001b[0m creating build/temp.macosx-11.1-arm64-cpython-39/Box2D/Collision\n",
            "  \u001b[31m   \u001b[0m creating build/temp.macosx-11.1-arm64-cpython-39/Box2D/Collision/Shapes\n",
            "  \u001b[31m   \u001b[0m creating build/temp.macosx-11.1-arm64-cpython-39/Box2D/Common\n",
            "  \u001b[31m   \u001b[0m creating build/temp.macosx-11.1-arm64-cpython-39/Box2D/Dynamics\n",
            "  \u001b[31m   \u001b[0m creating build/temp.macosx-11.1-arm64-cpython-39/Box2D/Dynamics/Contacts\n",
            "  \u001b[31m   \u001b[0m creating build/temp.macosx-11.1-arm64-cpython-39/Box2D/Dynamics/Joints\n",
            "  \u001b[31m   \u001b[0m clang -Wno-unused-result -Wsign-compare -Wunreachable-code -DNDEBUG -fwrapv -O2 -Wall -fPIC -O2 -isystem /Users/enriquef/anaconda3/envs/virtualenv/include -arch arm64 -I/Users/enriquef/anaconda3/envs/virtualenv/include -fPIC -O2 -isystem /Users/enriquef/anaconda3/envs/virtualenv/include -arch arm64 -I/Users/enriquef/anaconda3/envs/virtualenv/include/python3.9 -c Box2D/Box2D_wrap.cpp -o build/temp.macosx-11.1-arm64-cpython-39/Box2D/Box2D_wrap.o -I. -Wno-unused\n",
            "  \u001b[31m   \u001b[0m Box2D/Box2D_wrap.cpp:3378:10: fatal error: 'string' file not found\n",
            "  \u001b[31m   \u001b[0m  3378 | #include <string>\n",
            "  \u001b[31m   \u001b[0m       |          ^~~~~~~~\n",
            "  \u001b[31m   \u001b[0m 1 error generated.\n",
            "  \u001b[31m   \u001b[0m error: command '/usr/bin/clang' failed with exit code 1\n",
            "  \u001b[31m   \u001b[0m \u001b[31m[end of output]\u001b[0m\n",
            "  \n",
            "  \u001b[1;35mnote\u001b[0m: This error originates from a subprocess, and is likely not a problem with pip.\n",
            "\u001b[31m  ERROR: Failed building wheel for box2d-py\u001b[0m\u001b[31m\n",
            "\u001b[0m\u001b[?25h  Running setup.py clean for box2d-py\n",
            "Failed to build box2d-py\n",
            "\u001b[31mERROR: Failed to build installable wheels for some pyproject.toml based projects (box2d-py)\u001b[0m\u001b[31m\n",
            "\u001b[0mNote: you may need to restart the kernel to use updated packages.\n"
          ]
        }
      ],
      "source": [
        "%pip install swig\n",
        "%pip install \"gymnasium[box2d]\""
      ]
    },
    {
      "cell_type": "code",
      "execution_count": 2,
      "id": "8qg9wWR9lKqn",
      "metadata": {
        "id": "8qg9wWR9lKqn"
      },
      "outputs": [
        {
          "ename": "ModuleNotFoundError",
          "evalue": "No module named 'torch'",
          "output_type": "error",
          "traceback": [
            "\u001b[0;31m---------------------------------------------------------------------------\u001b[0m",
            "\u001b[0;31mModuleNotFoundError\u001b[0m                       Traceback (most recent call last)",
            "Cell \u001b[0;32mIn[2], line 9\u001b[0m\n\u001b[1;32m      7\u001b[0m \u001b[38;5;28;01mimport\u001b[39;00m\u001b[38;5;250m \u001b[39m\u001b[38;5;21;01mgymnasium\u001b[39;00m\u001b[38;5;250m \u001b[39m\u001b[38;5;28;01mas\u001b[39;00m\u001b[38;5;250m \u001b[39m\u001b[38;5;21;01mgym\u001b[39;00m\n\u001b[1;32m      8\u001b[0m \u001b[38;5;28;01mimport\u001b[39;00m\u001b[38;5;250m \u001b[39m\u001b[38;5;21;01mnumpy\u001b[39;00m\u001b[38;5;250m \u001b[39m\u001b[38;5;28;01mas\u001b[39;00m\u001b[38;5;250m \u001b[39m\u001b[38;5;21;01mnp\u001b[39;00m\n\u001b[0;32m----> 9\u001b[0m \u001b[38;5;28;01mimport\u001b[39;00m\u001b[38;5;250m \u001b[39m\u001b[38;5;21;01mtorch\u001b[39;00m\n\u001b[1;32m     10\u001b[0m \u001b[38;5;28;01mimport\u001b[39;00m\u001b[38;5;250m \u001b[39m\u001b[38;5;21;01mtorch\u001b[39;00m\u001b[38;5;21;01m.\u001b[39;00m\u001b[38;5;21;01mnn\u001b[39;00m\u001b[38;5;250m \u001b[39m\u001b[38;5;28;01mas\u001b[39;00m\u001b[38;5;250m \u001b[39m\u001b[38;5;21;01mnn\u001b[39;00m\n\u001b[1;32m     11\u001b[0m \u001b[38;5;28;01mimport\u001b[39;00m\u001b[38;5;250m \u001b[39m\u001b[38;5;21;01mtorch\u001b[39;00m\u001b[38;5;21;01m.\u001b[39;00m\u001b[38;5;21;01moptim\u001b[39;00m\u001b[38;5;250m \u001b[39m\u001b[38;5;28;01mas\u001b[39;00m\u001b[38;5;250m \u001b[39m\u001b[38;5;21;01moptim\u001b[39;00m\n",
            "\u001b[0;31mModuleNotFoundError\u001b[0m: No module named 'torch'"
          ]
        }
      ],
      "source": [
        "\n",
        "import random\n",
        "from collections import deque, namedtuple\n",
        "from dataclasses import dataclass\n",
        "from pathlib import Path\n",
        "from typing import List, Tuple\n",
        "\n",
        "import gymnasium as gym\n",
        "import numpy as np\n",
        "import torch\n",
        "import torch.nn as nn\n",
        "import torch.optim as optim\n"
      ]
    },
    {
      "cell_type": "markdown",
      "id": "4cYx1WWW0IH-",
      "metadata": {
        "id": "4cYx1WWW0IH-"
      },
      "source": [
        "## Seed creation\n",
        "\n",
        "### Why do we **set a random seed**?\n",
        "\n",
        "Machine-learning runs can drift wildly if every source of randomness\n",
        "(floats, shuffles, GPU kernels) changes each time.  \n",
        "A **fixed seed** pins the dice rolls so you can debug, compare models,\n",
        "and publish reproducible results.\n",
        "\n",
        "---\n",
        "\n",
        "### Where the randomness comes from\n",
        "| Component | Typical calls | What it affects |\n",
        "|-----------|---------------|-----------------|\n",
        "| **Python `random`** | `random.random()` | ε-greedy action picks, buffer shuffles |\n",
        "| **NumPy RNG** | `np.random.rand()` |  weight initialisation, batch sampling |\n",
        "| **PyTorch RNG** | `torch.randn()` |  network weights, dropout, cuda ops |\n",
        "| **cuDNN kernels** | GPU convolutions / GEMMs |  tiny numeric noise that can diverge |\n",
        "\n",
        "---\n",
        "\n",
        "### Seed setup used in the notebook\n",
        "```python\n",
        "def set_seed(seed=42):\n",
        "    import random, numpy as np, torch\n",
        "    random.seed(seed)\n",
        "    np.random.seed(seed)\n",
        "    torch.manual_seed(seed)\n",
        "    torch.cuda.manual_seed_all(seed)\n",
        "    torch.backends.cudnn.deterministic = True\n",
        "    torch.backends.cudnn.benchmark     = False\n"
      ]
    },
    {
      "cell_type": "code",
      "execution_count": null,
      "id": "lnQGDARl0Kfe",
      "metadata": {
        "id": "lnQGDARl0Kfe"
      },
      "outputs": [],
      "source": [
        "\n",
        "# Reproducibility\n",
        "def set_seed(seed: int = 42):\n",
        "    random.seed(seed)\n",
        "    np.random.seed(seed)\n",
        "    torch.manual_seed(seed)\n",
        "    torch.cuda.manual_seed_all(seed)\n",
        "    torch.backends.cudnn.deterministic = True\n",
        "    torch.backends.cudnn.benchmark = False\n"
      ]
    },
    {
      "cell_type": "markdown",
      "id": "c5Dg78cMlKqo",
      "metadata": {
        "id": "c5Dg78cMlKqo"
      },
      "source": [
        "## Hyper-parameters & what they control\n",
        "\n",
        "| Name | Default | What it influences | Typical tuning range |\n",
        "|------|---------|--------------------|----------------------|\n",
        "| `episodes` | **1000** | Hard cap on how many training episodes we’ll run (early-stop can cut it short). | 400 – 3000 |\n",
        "| `gamma` | **0.99** | Discount factor Γ – how far into the future rewards matter. Closer to 1 ➜ longer-term planning. | 0.95 – 0.999 |\n",
        "| `lr` | **1e-3** | Adam learning-rate – size of each gradient step. Too high → divergence; too low → slow learning. | 1e-4 – 3e-3 |\n",
        "| `batch_size` | **64** | Transitions drawn per optimiser step. Bigger batches smooth gradients but need more RAM. | 32 – 256 |\n",
        "| `memory_capacity` | **100 000** | Max transitions stored in replay buffer. Larger = more diverse experience, slower sampling. | 50k – 500k |\n",
        "| `start_learn_after` | **10 000** | Environment steps to collect **before** the first gradient update (lets the buffer fill). | 1k – 20k |\n",
        "| `tau` | **5e-3** | Soft-update rate for target net (θ_target ← (1-τ)θ_target + τθ_policy). Smaller τ = stabler but slower. | 1e-3 – 1e-2 |\n",
        "| `eps_start` | **1.0** | Initial ε for ε-greedy – start fully random to explore. | 0.9 – 1.0 |\n",
        "| `eps_end` | **0.05** | Floor on ε – keeps a trickle of exploration forever. | 0.01 – 0.1 |\n",
        "| `eps_decay` | **40 000** | Steps over which ε decays linearly from `eps_start` to `eps_end`. | 20k – 100k |\n",
        "| `eval_every` | **50** | Episodes between evaluation runs (greedy, no learning). | 20 – 100 |\n",
        "| `min_avg_score` | **200** | 100-episode moving-average reward that triggers early stopping (“solved” threshold). | 180 – 250 |\n",
        "\n",
        "---\n",
        "\n",
        "### Quick tuning tips\n",
        "\n",
        "* **Learning stalls?** – raise `batch_size` or lower `lr`.  \n",
        "* **Over-optimistic Q-values?** – decrease `tau` or try `gamma = 0.98`.  \n",
        "* **Agent still exploring too much late in training?** – raise `eps_decay` or lower `eps_end`.  \n",
        "* **Running out of RAM?** – cut `memory_capacity` in half; performance usually barely changes.\n",
        "\n",
        "> *Remember:* most settings interact — tweak one knob at a time so you know which change helped.\n",
        "\n",
        "Feel free to change hyperparameters to get different training results!"
      ]
    },
    {
      "cell_type": "code",
      "execution_count": null,
      "id": "crLu8VAXlKqo",
      "metadata": {
        "id": "crLu8VAXlKqo"
      },
      "outputs": [],
      "source": [
        "\n",
        "@dataclass\n",
        "class Config:\n",
        "    episodes: int = 2500\n",
        "    gamma: float = 0.99\n",
        "    lr: float = 1e-3\n",
        "    batch_size: int = 64\n",
        "    memory_capacity: int = 100_000\n",
        "    start_learn_after: int = 10_000\n",
        "    tau: float = 5e-3\n",
        "    eps_start: float = 1.0\n",
        "    eps_end: float = 0.05\n",
        "    eps_decay: int = 40_000\n",
        "    eval_every: int = 50\n",
        "    min_avg_score: float = 200\n"
      ]
    },
    {
      "cell_type": "markdown",
      "id": "KXNRGFSRlKqo",
      "metadata": {
        "id": "KXNRGFSRlKqo"
      },
      "source": [
        "## What is a **Replay Buffer** (Experience Replay)?\n",
        "\n",
        "A **replay buffer** is just a big circular list that stores every\n",
        "(state, action, reward, next_state, done) tuple the agent experiences.\n",
        "During learning we sample random mini-batches from it instead of using\n",
        "*only the newest* transition.  \n",
        "That single idea makes off-policy methods like DQN stable and data-efficient.\n",
        "\n",
        "---\n",
        "\n",
        "### Why bother storing old transitions?\n",
        "\n",
        "| Problem without a buffer | How replay fixes it |\n",
        "|--------------------------|---------------------|\n",
        "| **Strong correlation** – consecutive frames are almost identical; SGD expects i.i.d. samples. | Random sampling breaks the correlation, giving cleaner gradient estimates. |\n",
        "| **Catastrophic forgetting** – new experiences overwrite older, still-important states. | Mixing old & new keeps rare but critical transitions in play. |\n",
        "| **Inefficient GPU use** – one frame → one update. | Bigger batches keep the GPU busy and amortise Python overhead. |\n",
        "\n",
        "---\n",
        "\n",
        "### The fields we keep\n",
        "\n",
        "| Tuple element | Shape / dtype | Why we need it |\n",
        "|---------------|---------------|----------------|\n",
        "| `state`       | `np.float32[8]` | Starting observation for this step. |\n",
        "| `action`      | `int`          | Which thruster command was chosen. |\n",
        "| `reward`      | `float`        | Immediate scalar reward from the env. |\n",
        "| `next_state`  | `np.float32[8]` | Observation **after** the action. |\n",
        "| `done`        | `bool`         | `True` if episode has ended (crash or landing). |\n",
        "\n",
        "---"
      ]
    },
    {
      "cell_type": "code",
      "execution_count": null,
      "id": "W8hhSCe-lKqo",
      "metadata": {
        "id": "W8hhSCe-lKqo"
      },
      "outputs": [],
      "source": [
        "\n",
        "Transition = namedtuple(\"Transition\", (\"state\", \"action\", \"reward\", \"next_state\", \"done\"))\n",
        "\n",
        "class ReplayMemory:\n",
        "    # Fixed‑size buffer that stores experience tuples.\n",
        "    def __init__(self, capacity: int):\n",
        "        self.memory = deque(maxlen=capacity)\n",
        "\n",
        "    def push(self, *args):\n",
        "        self.memory.append(Transition(*args))\n",
        "\n",
        "    def sample(self, batch_size: int):\n",
        "        batch = random.sample(self.memory, batch_size)\n",
        "        return Transition(*zip(*batch))\n",
        "\n",
        "    def __len__(self):\n",
        "        return len(self.memory)\n"
      ]
    },
    {
      "cell_type": "markdown",
      "id": "IIvFcmzXlKqo",
      "metadata": {
        "id": "IIvFcmzXlKqo"
      },
      "source": [
        "### The Neural network\n",
        "## What is a **Deep Q-Network (DQN)?**\n",
        "\n",
        "A **DQN** is the combination of two classic ideas:  \n",
        "1. **Q-learning** – learn an action-value function *Q(s, a)* by bootstrapping.  \n",
        "2. **Deep neural nets** – replace the tabular Q-table with a function approximator that works on continuous, high-dimensional states.\n",
        "\n",
        "The network takes the current state (8 floats in Lunar Lander) and spits out **one Q-value per action** (4 thruster commands).  \n",
        "During play we just pick `argmax_a Q(s, a)`; during training we update the weights so those Q-values satisfy the Bellman equation.\n",
        "\n",
        "---\n",
        "\n",
        "### One-cycle overview\n",
        "\n",
        "| Step | What happens | Code hook in the notebook |\n",
        "|------|--------------|---------------------------|\n",
        "| 1. Collect a transition | `(s, a, r, s', done)` goes into the replay buffer. | `memory.push(…)` |\n",
        "| 2. Sample a batch | Get *batch_size* random transitions. | `memory.sample(…)` |\n",
        "| 3. Forward pass | `q_pred = policy_net(s).gather(a)` | inside `optimize_model` |\n",
        "| 4. Build TD-target | `r + γ · max_a' Q_target(s', a')` (DQN) **or** the Double-DQN variant. | same place |\n",
        "| 5. Back-prop | MSE / Huber loss → Adam step. | `optimizer.step()` |\n",
        "\n",
        "---\n",
        "\n",
        "### DQN **vs** Double DQN\n",
        "\n",
        "| Aspect | **Plain DQN** | **Double DQN** |\n",
        "|--------|---------------|----------------|\n",
        "| Who picks *a′*? | `policy_net` | `policy_net` |\n",
        "| Who evaluates *a′*? | **same** `policy_net` | **lagged** `target_net` |\n",
        "| Result | Over-estimates → twitchy learning | Truer Q’s → smoother learning |\n",
        "\n",
        "---\n"
      ]
    },
    {
      "cell_type": "code",
      "execution_count": 6,
      "id": "9SrLGPB6lKqo",
      "metadata": {
        "id": "9SrLGPB6lKqo"
      },
      "outputs": [],
      "source": [
        "\n",
        "class DQN(nn.Module):\n",
        "    \"\"\"Small MLP that outputs action‑values.\"\"\"\n",
        "    def __init__(self, obs_dim: int, act_dim: int):\n",
        "        super().__init__()\n",
        "        self.net = nn.Sequential(\n",
        "            nn.Linear(obs_dim, 128),\n",
        "            nn.ReLU(),\n",
        "            nn.Linear(128, 64),\n",
        "            nn.ReLU(),\n",
        "            nn.Linear(64, act_dim),\n",
        "        )\n",
        "\n",
        "    def forward(self, x):\n",
        "        return self.net(x)\n"
      ]
    },
    {
      "cell_type": "markdown",
      "id": "SBFmdcP4lKqo",
      "metadata": {
        "id": "SBFmdcP4lKqo"
      },
      "source": [
        "\n",
        "## Action-Selection & Optimisation helpers\n",
        "\n",
        "### `select_action`\n",
        "\n",
        "This function implements **epsilon-greedy action selection** for the DQN agent:\n",
        "\n",
        "- **Epsilon schedule:**  \n",
        "  The variable `eps` decays **linearly** from `cfg.eps_start` to `cfg.eps_end` over `cfg.eps_decay` steps. Early in training, the agent explores a lot (high epsilon), and over time, it exploits more what has given more overall rewards (low epsilon).\n",
        "- **Action choice:**  \n",
        "  - With probability `eps`, the agent chooses a **random action** (exploration).\n",
        "  - Otherwise, it selects the action with the **highest predicted Q-value** from the policy network (exploitation).\n",
        "- **Neural network input:**  \n",
        "  The state is converted to a PyTorch tensor and passed through the network to get Q-values for all possible actions.\n",
        "\n",
        "---\n",
        "\n",
        "### `optimize_model`\n",
        "\n",
        "This function handles a **single optimization step** for training the DQN agent:\n",
        "\n",
        "- **Replay buffer:**  \n",
        "  It samples a minibatch of experiences from memory (replay buffer) for more stable and uncorrelated updates.\n",
        "- **Batch processing:**  \n",
        "  Converts states, actions, rewards, next states, and done flags into PyTorch tensors for computation.\n",
        "- **Double DQN target:**  \n",
        "  - Uses the **policy network** to select the next action (best action in next state).\n",
        "  - Uses the **target network** to estimate the Q-value of that action (reducing overestimation bias).\n",
        "  - The target for each transition is:  \n",
        "$$\n",
        "\\text{target} = \\text{reward} + \\gamma \\times (1 - \\text{done}) \\times Q_{\\text{target}}(\\text{next_state},\\ \\text{best_next_action})\n",
        "$$\n",
        "- **Loss:**  \n",
        "  Computes the loss between the current Q-value and the target using **Smooth L1 Loss** (also called Huber loss), which is less sensitive to outliers than MSE loss.\n",
        "- **Optimization:**  \n",
        "  - Performs backpropagation and applies **gradient clipping** to prevent unstable updates.\n",
        "  - Updates the target network using a **soft update**: the target network slowly tracks the policy network parameters, controlled by the parameter `cfg.tau`.\n",
        "\n",
        "---\n",
        "\n",
        "**In summary:**  \n",
        "These functions allow your DQN agent to balance exploration and exploitation, learn from past experiences, and maintain stable training using experience replay, Double DQN updates, and soft target network updates.\n",
        "\n"
      ]
    },
    {
      "cell_type": "code",
      "execution_count": 7,
      "id": "Q9p53p9mlKqo",
      "metadata": {
        "id": "Q9p53p9mlKqo"
      },
      "outputs": [],
      "source": [
        "\n",
        "def select_action(state, policy_net, step, cfg, device):\n",
        "    # epsilon-greedy action selector with linear decay over steps.\n",
        "    eps = cfg.eps_end + (cfg.eps_start - cfg.eps_end) * max(0, (cfg.eps_decay - step)) / cfg.eps_decay\n",
        "    if random.random() < eps:\n",
        "        return random.randrange(policy_net.net[-1].out_features)\n",
        "    with torch.no_grad():\n",
        "        state_t = torch.as_tensor(state, dtype=torch.float32, device=device).unsqueeze(0)\n",
        "        return int(policy_net(state_t).argmax(1).item())\n",
        "\n",
        "def optimize_model(memory, policy_net, target_net, optimizer, cfg, device):\n",
        "    if len(memory) < cfg.start_learn_after or len(memory) < cfg.batch_size:\n",
        "        return\n",
        "\n",
        "    batch = memory.sample(cfg.batch_size)\n",
        "    state_b = torch.as_tensor(np.array(batch.state), dtype=torch.float32, device=device)\n",
        "    action_b = torch.as_tensor(batch.action, dtype=torch.int64, device=device).unsqueeze(1)\n",
        "    reward_b = torch.as_tensor(batch.reward, dtype=torch.float32, device=device).unsqueeze(1)\n",
        "    next_state_b = torch.as_tensor(np.array(batch.next_state), dtype=torch.float32, device=device)\n",
        "    done_b = torch.as_tensor(batch.done, dtype=torch.float32, device=device).unsqueeze(1)\n",
        "\n",
        "    q_values = policy_net(state_b).gather(1, action_b)\n",
        "    with torch.no_grad():\n",
        "        next_actions = policy_net(next_state_b).argmax(1, keepdim=True)\n",
        "        next_q = target_net(next_state_b).gather(1, next_actions)\n",
        "        target = reward_b + cfg.gamma * (1.0 - done_b) * next_q\n",
        "\n",
        "    criterion = nn.SmoothL1Loss()\n",
        "    loss = criterion(q_values, target)\n",
        "    optimizer.zero_grad(set_to_none=True)\n",
        "    loss.backward()\n",
        "    nn.utils.clip_grad_norm_(policy_net.parameters(), 1.0)\n",
        "    optimizer.step()\n",
        "\n",
        "    # Soft target update\n",
        "    with torch.no_grad():\n",
        "        for pt, p in zip(target_net.parameters(), policy_net.parameters()):\n",
        "            pt.data.mul_(1.0 - cfg.tau).add_(cfg.tau * p.data)\n"
      ]
    },
    {
      "cell_type": "markdown",
      "id": "GAaET-_6lKqo",
      "metadata": {
        "id": "GAaET-_6lKqo"
      },
      "source": [
        "\n",
        "### Evaluation helper\n",
        "\n",
        "Why keep evaluation separate\n",
        "1.\t**Noise-free metric** — no exploration randomness.\n",
        "2.\t**No side-effects** — weights & replay buffer stay untouched.\n",
        "3.\t**Early-stop trigger** — 100-episode moving average of these scores decides if we’ve “solved” the task (≥ 200).\n",
        "4.\t**Easy video capture** — wrap only the eval env in RecordVideo; training speed is unaffected."
      ]
    },
    {
      "cell_type": "code",
      "execution_count": 8,
      "id": "yZBuvaholKqp",
      "metadata": {
        "id": "yZBuvaholKqp"
      },
      "outputs": [],
      "source": [
        "\n",
        "def evaluate_agent(env, policy_net, episodes=5, device=torch.device('cpu')):\n",
        "    scores = []\n",
        "    for _ in range(episodes):\n",
        "        state, _ = env.reset(seed=None)\n",
        "        done = False\n",
        "        total = 0.0\n",
        "        while not done:\n",
        "            with torch.no_grad():\n",
        "                action = int(policy_net(torch.as_tensor(state, dtype=torch.float32, device=device)[None]).argmax(1).item())\n",
        "            state, reward, done, trunc, _ = env.step(action)\n",
        "            done = done or trunc\n",
        "            total += reward\n",
        "        scores.append(total)\n",
        "    return float(np.mean(scores))\n"
      ]
    },
    {
      "cell_type": "markdown",
      "id": "NtYW4pT2tNH5",
      "metadata": {
        "id": "NtYW4pT2tNH5"
      },
      "source": [
        "# Recording\n",
        "This function handles the recording for human inspection.\n",
        "\n",
        "Uses the best model available from the training, and will create a new video when there's a new evaluation in which the agent receives **at least 200+ reward score** compared to previous evaluation."
      ]
    },
    {
      "cell_type": "code",
      "execution_count": 4,
      "id": "XODtpFwCtPbR",
      "metadata": {
        "id": "XODtpFwCtPbR"
      },
      "outputs": [],
      "source": [
        "\n",
        "import datetime\n",
        "from gymnasium.wrappers import RecordVideo\n",
        "\n",
        "def make_video_env():\n",
        "    timestamp = datetime.datetime.now().strftime(\"%Y%m%d-%H%M%S\")\n",
        "    env = gym.make(\n",
        "        \"LunarLander-v3\",\n",
        "        render_mode=\"rgb_array\",\n",
        "    )\n",
        "    return RecordVideo(\n",
        "        env,\n",
        "        video_folder=\"videos\",\n",
        "        name_prefix=f\"lander_{timestamp}\",\n",
        "        episode_trigger=lambda ep: True,\n",
        "    )\n",
        "\n",
        "def record_greedy_episode(policy_net, device=\"cpu\"):\n",
        "\n",
        "    env = make_video_env()\n",
        "    state, _ = env.reset(seed=None)\n",
        "    done = False\n",
        "    while not done:\n",
        "        with torch.no_grad():\n",
        "            action = int(\n",
        "                policy_net(\n",
        "                    torch.as_tensor(state, dtype=torch.float32, device=device)[None]\n",
        "                ).argmax(1).item()\n",
        "            )\n",
        "        state, _, done, trunc, _ = env.step(action)\n",
        "        done = done or trunc\n",
        "    env.close()\n",
        "    print(\"Saved a video to ./videos/\")"
      ]
    },
    {
      "cell_type": "markdown",
      "id": "u033KDYWlKqp",
      "metadata": {
        "id": "u033KDYWlKqp"
      },
      "source": [
        "### Training loop & plotting\n",
        "Generates the plot for training history in terms of overall reward obtained on each episode."
      ]
    },
    {
      "cell_type": "code",
      "execution_count": null,
      "id": "riMBU6QilKqp",
      "metadata": {
        "id": "riMBU6QilKqp"
      },
      "outputs": [],
      "source": [
        "\n",
        "import matplotlib.pyplot as plt\n",
        "from tqdm import trange\n",
        "\n",
        "def _plot_curve(rewards):\n",
        "    plt.plot(rewards)\n",
        "    plt.xlabel('Episode')\n",
        "    plt.ylabel('Reward')\n",
        "    plt.title('Training progress')\n",
        "    plt.grid(True)\n",
        "    plt.show()\n",
        "\n",
        "def train(cfg):\n",
        "    device = torch.device('cuda' if torch.cuda.is_available() else 'cpu')\n",
        "    env = gym.make('LunarLander-v3', render_mode='rgb_array')\n",
        "    obs_dim = env.observation_space.shape[0]\n",
        "    act_dim = env.action_space.n\n",
        "\n",
        "    policy_net = DQN(obs_dim, act_dim).to(device)\n",
        "    target_net = DQN(obs_dim, act_dim).to(device)\n",
        "    target_net.load_state_dict(policy_net.state_dict())\n",
        "\n",
        "    optimizer = optim.Adam(policy_net.parameters(), lr=cfg.lr)\n",
        "    memory = ReplayMemory(cfg.memory_capacity)\n",
        "\n",
        "    all_rewards = []\n",
        "    best_score = -float('inf')\n",
        "    step = 0\n",
        "\n",
        "    for episode in trange(cfg.episodes, desc='Training', unit='ep'):\n",
        "        state, _ = env.reset(seed=None)\n",
        "        done = False\n",
        "        total_reward = 0.0\n",
        "\n",
        "        while not done:\n",
        "            action = select_action(state, policy_net, step, cfg, device)\n",
        "            next_state, reward, done, trunc, _ = env.step(action)\n",
        "            finished = done or trunc\n",
        "            memory.push(state, action, reward, next_state, finished)\n",
        "\n",
        "            state = next_state\n",
        "            total_reward += reward\n",
        "            step += 1\n",
        "\n",
        "            optimize_model(memory, policy_net, target_net, optimizer, cfg, device)\n",
        "\n",
        "        all_rewards.append(total_reward)\n",
        "\n",
        "        if (episode + 1) % cfg.eval_every == 0:\n",
        "            avg = evaluate_agent(env, policy_net, device=device)\n",
        "            if avg > best_score:\n",
        "                best_score = avg\n",
        "                torch.save(policy_net.state_dict(), 'best_model.pt')\n",
        "                record_greedy_episode(policy_net, device)\n",
        "            #print(f'\\n[Eval] ep {episode+1:3d}: avg reward = {avg:.1f}')\n",
        "\n",
        "            if len(all_rewards) >= 100 and np.mean(all_rewards[-100:]) >= cfg.min_avg_score:\n",
        "                print('Solved! Average reward ≥ 200. Early stopping.')\n",
        "                break\n",
        "\n",
        "    torch.save(policy_net.state_dict(), 'final_model.pt')\n",
        "    _plot_curve(all_rewards)\n",
        "    env.close()\n"
      ]
    },
    {
      "cell_type": "markdown",
      "id": "1zi_F-XglKqp",
      "metadata": {
        "id": "1zi_F-XglKqp"
      },
      "source": [
        "### Run training\n",
        "\n",
        "1000 episodes takes ~30 minutes with Colab's T4"
      ]
    },
    {
      "cell_type": "code",
      "execution_count": null,
      "id": "tzVPBdjdlKqp",
      "metadata": {
        "colab": {
          "base_uri": "https://localhost:8080/",
          "height": 1000
        },
        "id": "tzVPBdjdlKqp",
        "outputId": "b7550e9e-f424-418b-d5c5-128bad1d9d96"
      },
      "outputs": [
        {
          "name": "stderr",
          "output_type": "stream",
          "text": [
            "Training:   3%|▎         | 63/2500 [00:02<02:10, 18.71ep/s]"
          ]
        },
        {
          "name": "stdout",
          "output_type": "stream",
          "text": [
            "Saved a video to ./videos/\n",
            "\n",
            "[Eval] ep  50: avg reward = -1050.6\n"
          ]
        },
        {
          "name": "stderr",
          "output_type": "stream",
          "text": [
            "Training:   4%|▍         | 106/2500 [00:03<01:04, 37.32ep/s]"
          ]
        },
        {
          "name": "stdout",
          "output_type": "stream",
          "text": [
            "\n",
            "[Eval] ep 100: avg reward = -1101.9\n"
          ]
        },
        {
          "name": "stderr",
          "output_type": "stream",
          "text": [
            "Training:   6%|▌         | 149/2500 [00:18<13:42,  2.86ep/s]/usr/local/lib/python3.11/dist-packages/gymnasium/wrappers/rendering.py:283: UserWarning: \u001b[33mWARN: Overwriting existing videos at /content/videos folder (try specifying a different `video_folder` for the `RecordVideo` wrapper if this is not desired)\u001b[0m\n",
            "  logger.warn(\n",
            "Training:   6%|▌         | 150/2500 [00:27<1:50:03,  2.81s/ep]"
          ]
        },
        {
          "name": "stdout",
          "output_type": "stream",
          "text": [
            "Saved a video to ./videos/\n",
            "\n",
            "[Eval] ep 150: avg reward = -98.3\n"
          ]
        },
        {
          "name": "stderr",
          "output_type": "stream",
          "text": [
            "Training:   8%|▊         | 200/2500 [01:49<2:42:52,  4.25s/ep]"
          ]
        },
        {
          "name": "stdout",
          "output_type": "stream",
          "text": [
            "Saved a video to ./videos/\n",
            "\n",
            "[Eval] ep 200: avg reward = 188.3\n"
          ]
        },
        {
          "name": "stderr",
          "output_type": "stream",
          "text": [
            "Training:  10%|█         | 250/2500 [03:15<1:49:59,  2.93s/ep]"
          ]
        },
        {
          "name": "stdout",
          "output_type": "stream",
          "text": [
            "Saved a video to ./videos/\n",
            "\n",
            "[Eval] ep 250: avg reward = 190.5\n"
          ]
        },
        {
          "name": "stderr",
          "output_type": "stream",
          "text": [
            "Training:  12%|█▏        | 300/2500 [05:36<2:03:31,  3.37s/ep]"
          ]
        },
        {
          "name": "stdout",
          "output_type": "stream",
          "text": [
            "Saved a video to ./videos/\n",
            "\n",
            "[Eval] ep 300: avg reward = 231.8\n"
          ]
        },
        {
          "name": "stderr",
          "output_type": "stream",
          "text": [
            "Training:  14%|█▍        | 350/2500 [07:52<3:00:47,  5.05s/ep]"
          ]
        },
        {
          "name": "stdout",
          "output_type": "stream",
          "text": [
            "\n",
            "[Eval] ep 350: avg reward = 215.6\n"
          ]
        },
        {
          "name": "stderr",
          "output_type": "stream",
          "text": [
            "Training:  16%|█▌        | 400/2500 [09:34<1:37:15,  2.78s/ep]"
          ]
        },
        {
          "name": "stdout",
          "output_type": "stream",
          "text": [
            "\n",
            "[Eval] ep 400: avg reward = -104.4\n"
          ]
        },
        {
          "name": "stderr",
          "output_type": "stream",
          "text": [
            "Training:  18%|█▊        | 450/2500 [10:59<58:07,  1.70s/ep]  "
          ]
        },
        {
          "name": "stdout",
          "output_type": "stream",
          "text": [
            "\n",
            "[Eval] ep 450: avg reward = 61.9\n"
          ]
        },
        {
          "name": "stderr",
          "output_type": "stream",
          "text": [
            "Training:  20%|██        | 500/2500 [11:55<49:47,  1.49s/ep]"
          ]
        },
        {
          "name": "stdout",
          "output_type": "stream",
          "text": [
            "\n",
            "[Eval] ep 500: avg reward = 198.3\n"
          ]
        },
        {
          "name": "stderr",
          "output_type": "stream",
          "text": [
            "Training:  22%|██▏       | 549/2500 [13:03<46:25,  1.43s/ep]"
          ]
        },
        {
          "name": "stdout",
          "output_type": "stream",
          "text": [
            "Saved a video to ./videos/\n",
            "\n",
            "[Eval] ep 550: avg reward = 276.3\n",
            "Solved! Average reward ≥ 200. Early stopping.\n"
          ]
        },
        {
          "name": "stderr",
          "output_type": "stream",
          "text": [
            "\n"
          ]
        },
        {
          "data": {
            "image/png": "[encoded data removed]",
            "text/plain": [
              "<Figure size 640x480 with 1 Axes>"
            ]
          },
          "metadata": {},
          "output_type": "display_data"
        }
      ],
      "source": [
        "\n",
        "set_seed()\n",
        "cfg = Config()\n",
        "train(cfg)\n"
      ]
    },
    {
      "cell_type": "markdown",
      "id": "3walNkiNLe1P",
      "metadata": {
        "id": "3walNkiNLe1P"
      },
      "source": [
        "# Interpreting the results\n",
        "\n",
        "### Why does Double DQN work better on LunarLander?\n",
        "\n",
        "Double DQN improves over standard DQN by **reducing the overestimation of Q-values**, which is a common problem in environments with complex or noisy rewards, like LunarLander.\n",
        "\n",
        "In regular DQN, the network uses the same values both to select and to evaluate the best next action. This can lead to the network being \"overconfident,\" systematically overestimating how good some actions are, especially when the environment is stochastic (unpredictable) or the state space is large and continuous.\n",
        "\n",
        "Double DQN solves this by **decoupling** the selection and evaluation steps:\n",
        "- The online (policy) network selects the best next action.\n",
        "- The target network evaluates that action.\n",
        "\n",
        "This makes the value estimates more accurate and learning more stable, so the agent is less likely to “chase” noisy or misleading rewards. In practice, this leads to **more reliable learning and better long-term performance** on challenging tasks like LunarLander."
      ]
    },
    {
      "cell_type": "markdown",
      "id": "iyV1G4gq5PiU",
      "metadata": {
        "id": "iyV1G4gq5PiU"
      },
      "source": [
        "# Time to test our trained pilot!\n",
        "### Play with the generated model\n",
        "Now that training it's over, our best pilot a.k.a best model has been saved to our files as *best_model.pt*. We can use it to try the same `LunarLander-v3` environment with added randomness.\n",
        "\n",
        "You can change the *model_path* to the path of the best_model or final_model, the latter being the one used on the last training session (Doesn't necessarily means it's better, it means it was used on the last training session but could have performed worse than *best_model*).\n",
        "\n",
        "**This will store a new video in videos with the prefix \"*test_*\"**"
      ]
    },
    {
      "cell_type": "code",
      "execution_count": 13,
      "id": "K7tFn2mS5Tfu",
      "metadata": {
        "colab": {
          "base_uri": "https://localhost:8080/"
        },
        "id": "K7tFn2mS5Tfu",
        "outputId": "b6d5e894-eeab-42a1-c5e7-56650c0dd505"
      },
      "outputs": [
        {
          "name": "stdout",
          "output_type": "stream",
          "text": [
            "Landing recorded as \"videos/test_20250613-163913-episode-0.mp4\"\n"
          ]
        }
      ],
      "source": [
        "# 1  Make a video env (RGB frames)\n",
        "from gymnasium.wrappers import RecordVideo\n",
        "import gymnasium as gym, torch, numpy as np\n",
        "from pathlib import Path\n",
        "from IPython.display import HTML\n",
        "\n",
        "def record_episode(model_path=\"best_model.pt\", fname_prefix=\"test_\"):\n",
        "    timestamp = datetime.datetime.now().strftime(\"%H%M%S\")\n",
        "    env = RecordVideo(\n",
        "        gym.make(\"LunarLander-v3\", render_mode=\"rgb_array\"),\n",
        "        video_folder=\"videos\",\n",
        "        name_prefix=fname_prefix + timestamp,\n",
        "        episode_trigger=lambda ep: True,     # record first (only) episode\n",
        "    )\n",
        "\n",
        "    obs_dim  = env.observation_space.shape[0]\n",
        "    act_dim  = env.action_space.n\n",
        "    device   = torch.device(\"cpu\")\n",
        "\n",
        "    policy = DQN(obs_dim, act_dim).to(device)\n",
        "    policy.load_state_dict(torch.load(model_path, map_location=device))\n",
        "    policy.eval()\n",
        "\n",
        "    state, _ = env.reset()\n",
        "    done = False\n",
        "    while not done:\n",
        "        with torch.no_grad():\n",
        "            action = int(policy(torch.tensor(state, dtype=torch.float32)[None]).argmax())\n",
        "        state, _, done, trunc, _ = env.step(action)\n",
        "        done = done or trunc\n",
        "    env.close()\n",
        "\n",
        "    return sorted(Path(\"videos\").glob(f\"{fname_prefix}*.mp4\"))[-1]   # newest clip\n",
        "\n",
        "# 2️  Run it once\n",
        "video_path = record_episode(model_path=\"best_model.pt\")\n",
        "\n",
        "print(f'Landing recorded as \"{video_path}\"')"
      ]
    },
    {
      "cell_type": "code",
      "execution_count": null,
      "id": "GFrW-ksZ5qiu",
      "metadata": {
        "colab": {
          "base_uri": "https://localhost:8080/",
          "height": 198
        },
        "id": "GFrW-ksZ5qiu",
        "outputId": "e60d8669-80ff-4ce4-e858-4e8bdf4d5af8"
      },
      "outputs": [
        {
          "ename": "NameError",
          "evalue": "name 'policy' is not defined",
          "output_type": "error",
          "traceback": [
            "\u001b[0;31m---------------------------------------------------------------------------\u001b[0m",
            "\u001b[0;31mNameError\u001b[0m                                 Traceback (most recent call last)",
            "\u001b[0;32m<ipython-input-16-a0fbf68f9b3b>\u001b[0m in \u001b[0;36m<cell line: 0>\u001b[0;34m()\u001b[0m\n\u001b[1;32m     15\u001b[0m     \u001b[0;32mreturn\u001b[0m \u001b[0mnp\u001b[0m\u001b[0;34m.\u001b[0m\u001b[0mmean\u001b[0m\u001b[0;34m(\u001b[0m\u001b[0mscores\u001b[0m\u001b[0;34m)\u001b[0m\u001b[0;34m,\u001b[0m \u001b[0mnp\u001b[0m\u001b[0;34m.\u001b[0m\u001b[0mstd\u001b[0m\u001b[0;34m(\u001b[0m\u001b[0mscores\u001b[0m\u001b[0;34m)\u001b[0m\u001b[0;34m\u001b[0m\u001b[0;34m\u001b[0m\u001b[0m\n\u001b[1;32m     16\u001b[0m \u001b[0;34m\u001b[0m\u001b[0m\n\u001b[0;32m---> 17\u001b[0;31m \u001b[0mmean\u001b[0m\u001b[0;34m,\u001b[0m \u001b[0mstd\u001b[0m \u001b[0;34m=\u001b[0m \u001b[0mevaluate\u001b[0m\u001b[0;34m(\u001b[0m\u001b[0mpolicy\u001b[0m\u001b[0;34m)\u001b[0m\u001b[0;34m\u001b[0m\u001b[0;34m\u001b[0m\u001b[0m\n\u001b[0m\u001b[1;32m     18\u001b[0m \u001b[0mprint\u001b[0m\u001b[0;34m(\u001b[0m\u001b[0;34mf\"Average reward over 100 runs: {mean:.1f} ± {std:.1f}\"\u001b[0m\u001b[0;34m)\u001b[0m\u001b[0;34m\u001b[0m\u001b[0;34m\u001b[0m\u001b[0m\n",
            "\u001b[0;31mNameError\u001b[0m: name 'policy' is not defined"
          ]
        }
      ],
      "source": [
        "def evaluate(agent, episodes=100):\n",
        "    env = gym.make(\"LunarLander-v3\")\n",
        "    scores = []\n",
        "    for _ in range(episodes):\n",
        "        s,_ = env.reset()\n",
        "        done = False; total = 0\n",
        "        while not done:\n",
        "            with torch.no_grad():\n",
        "                a = int(agent(torch.tensor(s, dtype=torch.float32)[None]).argmax())\n",
        "            s,r,done,trunc,_ = env.step(a)\n",
        "            done = done or trunc\n",
        "            total += r\n",
        "        scores.append(total)\n",
        "    env.close()\n",
        "    return np.mean(scores), np.std(scores)\n",
        "\n",
        "mean, std = evaluate(policy)\n",
        "print(f\"Average reward over 100 runs: {mean:.1f} ± {std:.1f}\")"
      ]
    }
  ],
  "metadata": {
    "accelerator": "GPU",
    "colab": {
      "gpuType": "T4",
      "provenance": []
    },
    "kernelspec": {
      "display_name": "virtualenv",
      "language": "python",
      "name": "python3"
    },
    "language_info": {
      "codemirror_mode": {
        "name": "ipython",
        "version": 3
      },
      "file_extension": ".py",
      "mimetype": "text/x-python",
      "name": "python",
      "nbconvert_exporter": "python",
      "pygments_lexer": "ipython3",
      "version": "3.9.23"
    }
  },
  "nbformat": 4,
  "nbformat_minor": 5
}
