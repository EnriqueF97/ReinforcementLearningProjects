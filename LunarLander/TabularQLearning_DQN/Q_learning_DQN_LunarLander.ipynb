{
  "nbformat": 4,
  "nbformat_minor": 0,
  "metadata": {
    "colab": {
      "provenance": [],
      "gpuType": "T4"
    },
    "kernelspec": {
      "name": "python3",
      "display_name": "Python 3"
    },
    "language_info": {
      "name": "python"
    },
    "accelerator": "GPU"
  },
  "cells": [
    {
      "cell_type": "markdown",
      "source": [
        "## Introduction to Tabular Q-Learning and Deep Q-Network\n",
        "\n",
        "Enrique Favila Martinez, 2025\n",
        "\n",
        "**Tabular Q-learning** is one of the simplest and most classic algorithms in reinforcement learning.  \n",
        "It is a method for teaching an agent to solve sequential decision-making problems when:\n",
        "- The environment has a finite and discrete set of possible states, and\n",
        "- The number of actions is also discrete and small.\n",
        "\n",
        "In tabular Q-learning, the agent keeps a **Q-table**. This table stores an estimate of the “quality” (expected long-term reward) for taking each action from each state. The table’s entries are updated over time as the agent explores the environment and sees which actions lead to better rewards.\n",
        "\n",
        "---\n",
        "\n",
        "### How does it work?\n",
        "\n",
        "At each time step:\n",
        "1. The agent observes its current **state**.\n",
        "2. It chooses an **action** (usually using an ε-greedy policy to balance exploration and exploitation).\n",
        "3. The environment returns a **reward** and a new **state**.\n",
        "4. The agent updates its Q-table using the Q-learning rule:\n",
        "\n",
        "   \\[\n",
        "   Q(s, a) \\leftarrow Q(s, a) + \\alpha \\Big[r + \\gamma \\max_{a'} Q(s', a') - Q(s, a)\\Big]\n",
        "   \\]\n",
        "\n",
        "   Where:\n",
        "   - \\( s \\) = current state\n",
        "   - \\( a \\) = action taken\n",
        "   - \\( r \\) = reward received\n",
        "   - \\( s' \\) = next state\n",
        "   - \\( \\alpha \\) = learning rate\n",
        "   - \\( \\gamma \\) = discount factor for future rewards\n",
        "\n",
        "---\n",
        "\n",
        "### Why is it called “tabular”?\n",
        "\n",
        "Because **all** state–action pairs are stored in a lookup **table** (not approximated with neural networks).  \n",
        "Tabular Q-learning is only practical when the number of unique states and actions is small enough to fit in memory.\n",
        "\n",
        "---\n",
        "\n",
        "### In this project\n",
        "\n",
        "- We use tabular Q-learning to train an agent for environments with discretized states, such as **Lunar Lander**.\n",
        "- The agent learns directly by filling in the Q-table based on its experience.\n",
        "- Once trained, the agent can be visualized navigating the environment by always choosing the highest-value action from its Q-table.\n",
        "\n",
        "---\n",
        "\n",
        "### What is DQN and how does it learn?\n",
        "\n",
        "**DQN (Deep Q-Network)** is a reinforcement learning algorithm that combines Q-learning with a neural network.  \n",
        "Instead of using a table, DQN uses the neural network to estimate the value of every possible action in any given state—even if it’s never seen that exact state before.\n",
        "\n",
        "The agent collects experiences as it interacts with the environment and stores them in a replay buffer. During training, it samples batches of these experiences to update the network’s predictions, using the Bellman equation. Over time, the DQN network learns which actions lead to better rewards and improves its policy for solving the task.\n",
        "### Train the agent with DQN\n",
        "\n",
        "- After showcasing the performance of Tabular Q-learning in continuos state spaces, we'll switch to use DQN to train the same agent and compare the results.\n",
        "\n",
        "---\n",
        "\n"
      ],
      "metadata": {
        "id": "-IS727EbWsrw"
      }
    },
    {
      "cell_type": "markdown",
      "source": [
        "## Lunar Lander\n",
        "Lunar Lander is a Reinforcement Learning problem that allows us to train an agent interacting with an environment, to fulfill a goal.\n",
        "\n",
        "- The goal is to teach an agent to control a spacecraft in a low gravity environment and land it in a designated area, controlling 3 thrusters.\n",
        "\n",
        "### Lunar Lander state description\n",
        "State space: Continuous — 8 floating-point numbers per state:\n",
        "1.\tx position\n",
        "2.\ty position\n",
        "3.\tx velocity\n",
        "4.\ty velocity\n",
        "5.\tangle\n",
        "6.\tangular velocity\n",
        "7.\tleft leg contact (0/1)\n",
        "8.\tright leg contact (0/1)\n",
        "\n",
        "Each state: a vector of 8 floats (**nearly infinite combinations**), which is not adequate for the nature of Tabular Q-learning. That's why we will to discretize this state space, reducing the size."
      ],
      "metadata": {
        "id": "_1e0uw4xmo8O"
      }
    },
    {
      "cell_type": "markdown",
      "source": [
        "## Basic imports\n",
        "Initializing environment."
      ],
      "metadata": {
        "id": "m5otZvscLMJv"
      }
    },
    {
      "cell_type": "code",
      "source": [
        "!pip install --quiet swig\n",
        "!pip install --quiet \"gymnasium[box2d]\"\n",
        "import numpy as np\n",
        "import gymnasium as gym\n",
        "from collections import defaultdict\n",
        "import matplotlib.pyplot as plt\n",
        "\n",
        "\n",
        "# Set up the environment\n",
        "env = gym.make(\"LunarLander-v3\", render_mode=\"rgb_array\")\n",
        "n_actions = env.action_space.n # 4 actions -> main thruster, left thruster, right thruster, do nothing"
      ],
      "metadata": {
        "colab": {
          "base_uri": "https://localhost:8080/"
        },
        "id": "0CZSS1LWmoPm",
        "outputId": "19d3df2a-2aca-4f33-e991-2b001a13b7b0"
      },
      "execution_count": 1,
      "outputs": [
        {
          "output_type": "stream",
          "name": "stdout",
          "text": [
            "\u001b[2K   \u001b[90m━━━━━━━━━━━━━━━━━━━━━━━━━━━━━━━━━━━━━━━━\u001b[0m \u001b[32m1.9/1.9 MB\u001b[0m \u001b[31m32.5 MB/s\u001b[0m eta \u001b[36m0:00:00\u001b[0m\n",
            "\u001b[2K     \u001b[90m━━━━━━━━━━━━━━━━━━━━━━━━━━━━━━━━━━━━━━\u001b[0m \u001b[32m374.4/374.4 kB\u001b[0m \u001b[31m10.2 MB/s\u001b[0m eta \u001b[36m0:00:00\u001b[0m\n",
            "\u001b[?25h  Preparing metadata (setup.py) ... \u001b[?25l\u001b[?25hdone\n",
            "  Building wheel for box2d-py (setup.py) ... \u001b[?25l\u001b[?25hdone\n"
          ]
        }
      ]
    },
    {
      "cell_type": "markdown",
      "source": [
        "## Discretization\n",
        "Needed for making Tabular Q-learning possible with an environment providing a vector of continuous values instead of finite states.\n",
        "\n",
        "> *Discretize = convert float values into integers on a range.*\n",
        "\n",
        "The discretization works as follows:\n",
        "\n",
        "*   For each element of the first 6 states, the value will fall into one of 6 possible values (called bins)\n",
        "*   Last two elements which are binary, will only have 2 bins to fall into.\n",
        "*   The range will vary between each bin, depending on the range of continuos values.\n",
        "\n",
        "For example, for a value that can go from -3 to +3 and we define the number of bins as 6, the bins will be structured like this:\n",
        "\n",
        "1.   bin1 - Values from -3 to -2\n",
        "2.   bin2 - Values from -2 to -1\n",
        "3.   bin3 - Values from -1 to 0\n",
        "4.   bin4 - Values from 0 to 1\n",
        "5.   bin5 - Values from 1 to 2\n",
        "6.   bin6 - Values from 2 to 3\n",
        "\n",
        "---\n",
        "*  If the value is -0.7, falls into the bin 3 and returns *3* as a result.\n",
        "*  In this way, we now have only 6 possible integer values for this state value.\n",
        "*  While it won't reflect the real state values as precisely, it gives the model an idea of what's happening in the environment while keeping the state space simple."
      ],
      "metadata": {
        "id": "sRz-DjzI7nb3"
      }
    },
    {
      "cell_type": "code",
      "source": [
        "\n",
        "# Discretization: choose bins for each state variable\n",
        "n_bins = [6, 6, 6, 6, 6, 6, 2, 2]\n",
        "bin_limits = [\n",
        "    np.linspace(-1.5, 1.5, n_bins[0]-1),         # x pos\n",
        "    np.linspace(-.5, 1.5, n_bins[1]-1),          # y pos\n",
        "    np.linspace(-2, 2, n_bins[2]-1),             # x vel\n",
        "    np.linspace(-2, 2, n_bins[3]-1),             # y vel\n",
        "    np.linspace(-np.pi, np.pi, n_bins[4]-1),     # angle\n",
        "    np.linspace(-2, 2, n_bins[5]-1),             # angular vel\n",
        "    [0.5], [0.5]                                 # leg contacts\n",
        "]\n",
        "\n",
        "def discretize(state):\n",
        "    return tuple(\n",
        "        np.digitize(state[i], bin_limits[i]) for i in range(len(n_bins))\n",
        "    )\n",
        "\n",
        "# Initialize Q-table as a defaultdict\n",
        "Q = defaultdict(lambda: np.zeros(n_actions))\n"
      ],
      "metadata": {
        "id": "aktOIPiy7ykG"
      },
      "execution_count": 2,
      "outputs": []
    },
    {
      "cell_type": "markdown",
      "source": [
        "## Hyperparameter tuning\n",
        "Initialize the parameters used during training."
      ],
      "metadata": {
        "id": "fJ4cnj5i7656"
      }
    },
    {
      "cell_type": "code",
      "source": [
        "# Hyperparameters\n",
        "class Config:\n",
        "  alpha: float = 0.1\n",
        "  gamma: float= 0.99\n",
        "  epsilon: float = 1.0\n",
        "  epsilon_min: float = 0.05\n",
        "  epsilon_decay: float = 0.995\n",
        "  n_episodes: int = 1500\n",
        "\n",
        "cfg = Config()"
      ],
      "metadata": {
        "id": "VFrvTOMj79qc"
      },
      "execution_count": 3,
      "outputs": []
    },
    {
      "cell_type": "markdown",
      "source": [
        "## Training"
      ],
      "metadata": {
        "id": "6KM9SCQKaS7C"
      }
    },
    {
      "cell_type": "code",
      "source": [
        "env.close()\n",
        "env = gym.make(\"LunarLander-v3\")\n",
        "\n",
        "def train(cfg):\n",
        "  rewards = []\n",
        "  epsilon = cfg.epsilon\n",
        "\n",
        "  for episode in range(cfg.n_episodes):\n",
        "      state, _ = env.reset()\n",
        "      #print(\"normal state\",state)\n",
        "      d_state = discretize(state)\n",
        "      #print(\"discretized state\",d_state)\n",
        "      done = False\n",
        "      total_reward = 0\n",
        "\n",
        "      while not done:\n",
        "          # ε-greedy action selection\n",
        "          if np.random.rand() < epsilon:\n",
        "              action = env.action_space.sample()\n",
        "          else:\n",
        "              action = np.argmax(Q[d_state])\n",
        "\n",
        "          next_state, reward, terminated, truncated, info = env.step(action)\n",
        "          done = terminated or truncated\n",
        "          d_next_state = discretize(next_state)\n",
        "\n",
        "          # Q-learning update\n",
        "          best_next_action = np.argmax(Q[d_next_state])\n",
        "          td_target = reward + cfg.gamma * Q[d_next_state][best_next_action]\n",
        "          Q[d_state][action] += cfg.alpha * (td_target - Q[d_state][action])\n",
        "\n",
        "          d_state = d_next_state\n",
        "          total_reward += reward\n",
        "\n",
        "      epsilon = max(epsilon * cfg.epsilon_decay, cfg.epsilon_min)\n",
        "      rewards.append(total_reward)\n",
        "\n",
        "      if (episode + 1) % 100 == 0:\n",
        "          print(f\"Episode {episode+1}, Avg reward (last 100): {np.mean(rewards[-100:]):.2f}, Epsilon: {epsilon:.2f}\")\n",
        "\n",
        "  return rewards\n",
        "\n",
        "# Start training\n",
        "cfg = Config()\n",
        "rewards = train(cfg)\n",
        "\n",
        "\n",
        "# Plot rewards\n",
        "plt.plot(rewards)\n",
        "plt.xlabel('Episode')\n",
        "plt.ylabel('Reward')\n",
        "plt.title('Tabular Q-learning on LunarLander (discretized)')\n",
        "plt.show()"
      ],
      "metadata": {
        "colab": {
          "base_uri": "https://localhost:8080/",
          "height": 740
        },
        "id": "ZlF12UO9mhVh",
        "outputId": "1d406107-f7b3-4be4-de78-1640f0c73a04"
      },
      "execution_count": 4,
      "outputs": [
        {
          "output_type": "stream",
          "name": "stdout",
          "text": [
            "Episode 100, Avg reward (last 100): -134.15, Epsilon: 0.61\n",
            "Episode 200, Avg reward (last 100): -70.04, Epsilon: 0.37\n",
            "Episode 300, Avg reward (last 100): -118.56, Epsilon: 0.22\n",
            "Episode 400, Avg reward (last 100): -131.65, Epsilon: 0.13\n",
            "Episode 500, Avg reward (last 100): -117.37, Epsilon: 0.08\n",
            "Episode 600, Avg reward (last 100): -116.34, Epsilon: 0.05\n",
            "Episode 700, Avg reward (last 100): -133.88, Epsilon: 0.05\n",
            "Episode 800, Avg reward (last 100): -63.16, Epsilon: 0.05\n",
            "Episode 900, Avg reward (last 100): -127.21, Epsilon: 0.05\n",
            "Episode 1000, Avg reward (last 100): -114.80, Epsilon: 0.05\n",
            "Episode 1100, Avg reward (last 100): -135.20, Epsilon: 0.05\n",
            "Episode 1200, Avg reward (last 100): -110.13, Epsilon: 0.05\n",
            "Episode 1300, Avg reward (last 100): -119.44, Epsilon: 0.05\n",
            "Episode 1400, Avg reward (last 100): -98.03, Epsilon: 0.05\n",
            "Episode 1500, Avg reward (last 100): -108.54, Epsilon: 0.05\n"
          ]
        },
        {
          "output_type": "display_data",
          "data": {
            "text/plain": [
              "<Figure size 640x480 with 1 Axes>"
            ],
            "image/png": "[encoded data removed]"
          },
          "metadata": {}
        }
      ]
    },
    {
      "cell_type": "markdown",
      "source": [
        "## Interpreting the results\n",
        "\n",
        "Implementing tabular Q-learning for the LunarLander environment provided valuable insight into both the strengths and limitations of classical reinforcement learning algorithms. While tabular Q-learning is conceptually simple and works well in small, fully discrete environments (like Taxi-v3 or FrozenLake-v1), its shortcomings become clear in more complex, high-dimensional, and continuous state spaces like LunarLander.\n",
        "\n",
        "Despite experimenting with different numbers of discretization bins and hyperparameter tuning (learning rate, discount factor, epsilon decay), the agent's performance plateaued far below the environment's “solved” threshold. The main factors limiting performance were:\n",
        "\n",
        "- **State Space Explosion:** Even a modest number of bins for each of LunarLander's 8 state variables creates thousands to millions of possible state combinations. The agent cannot feasibly visit and learn all of them within a reasonable number of episodes.\n",
        "\n",
        "- **Lack of Generalization:** Tabular Q-learning treats each discretized state as entirely separate, so learning in one state does not transfer to similar states. This is especially problematic in environments where similar states should lead to similar behavior.\n",
        "\n",
        "- **Data Inefficiency:** The algorithm is fundamentally data-inefficient in large or continuous spaces, requiring vastly more episodes to see even incremental improvement compared to function-approximation methods.\n",
        "\n",
        "- **Poor Performance Ceiling:** Hyperparameter tuning provided only marginal gains, and rewards remained inconsistent and well below what's achievable with more advanced techniques.\n",
        "\n",
        "These limitations are not a reflection of the algorithm's correctness or implementation, but rather of its inherent design. In contrast, Deep Q-Networks (DQN) and other neural network-based methods are explicitly designed to handle large or continuous state spaces by learning representations and generalizing across states.\n",
        "\n",
        "### **Conclusion**\n",
        "We're gonna see an improvement in rewards using a a DQN approach, designed for more complex state spaces, like Lunar Lander."
      ],
      "metadata": {
        "id": "KYq5ckHmJDd8"
      }
    },
    {
      "cell_type": "markdown",
      "source": [
        "## DQN impementation"
      ],
      "metadata": {
        "id": "w31DzkrQL3f-"
      }
    },
    {
      "cell_type": "markdown",
      "source": [
        "## Aditional imports"
      ],
      "metadata": {
        "id": "JhwM60asME1i"
      }
    },
    {
      "cell_type": "code",
      "source": [
        "\n",
        "import torch\n",
        "import torch.nn as nn\n",
        "import torch.optim as optim\n",
        "import numpy as np\n",
        "import random\n",
        "import gymnasium as gym\n",
        "import matplotlib.pyplot as plt\n",
        "from collections import deque\n"
      ],
      "metadata": {
        "id": "liFrkBh6MGyz"
      },
      "execution_count": 5,
      "outputs": []
    },
    {
      "cell_type": "markdown",
      "source": [
        "## Hyperparameters\n"
      ],
      "metadata": {
        "id": "VtXp04dNMWVV"
      }
    },
    {
      "cell_type": "code",
      "source": [
        "\n",
        "class Config:\n",
        "  # Hyperparameters\n",
        "  gamma: float = 0.99\n",
        "  lr: float = 1e-3\n",
        "  batch_size: int = 64\n",
        "  buffer_size: int = 100_000\n",
        "  min_replay_size: int = 10_000\n",
        "  epsilon_start: float = 1.0\n",
        "  epsilon_end: float = 0.05\n",
        "  epsilon_decay: float = 0.99999\n",
        "  num_episodes: int = 2000\n",
        "\n",
        "\n",
        "cfg = Config() # Reinitialization of cfg\n",
        "obs_dim = env.observation_space.shape[0]\n"
      ],
      "metadata": {
        "id": "Sx7Bf7FtL6KT"
      },
      "execution_count": 6,
      "outputs": []
    },
    {
      "cell_type": "markdown",
      "source": [
        "## DQN Model Architecture Definition\n"
      ],
      "metadata": {
        "id": "cccW7ICjMjk-"
      }
    },
    {
      "cell_type": "code",
      "source": [
        "\n",
        "class DQN(nn.Module):\n",
        "    def __init__(self, obs_dim, n_actions):\n",
        "        super().__init__()\n",
        "        self.net = nn.Sequential(\n",
        "            nn.Linear(obs_dim, 128),\n",
        "            nn.ReLU(),\n",
        "            nn.Linear(128, 64),\n",
        "            nn.ReLU(),\n",
        "            nn.Linear(64, n_actions)\n",
        "        )\n",
        "\n",
        "    def forward(self, x):\n",
        "        return self.net(x)\n"
      ],
      "metadata": {
        "id": "TnWugmCgMlVT"
      },
      "execution_count": 7,
      "outputs": []
    },
    {
      "cell_type": "markdown",
      "source": [
        "## Reply Buffer"
      ],
      "metadata": {
        "id": "xp343yuWMqoD"
      }
    },
    {
      "cell_type": "code",
      "source": [
        "\n",
        "device = torch.device(\"cuda\" if torch.cuda.is_available() else \"cpu\")\n",
        "policy_net = DQN(obs_dim, n_actions).to(device)\n",
        "target_net = DQN(obs_dim, n_actions).to(device)\n",
        "target_net.load_state_dict(policy_net.state_dict())\n",
        "\n",
        "optimizer = optim.Adam(policy_net.parameters(), lr=cfg.lr)\n",
        "replay_buffer = deque(maxlen=cfg.buffer_size)\n"
      ],
      "metadata": {
        "id": "KNPBD9LHMrvo"
      },
      "execution_count": 8,
      "outputs": []
    },
    {
      "cell_type": "markdown",
      "source": [
        "## Epsilon - Greedy Actions"
      ],
      "metadata": {
        "id": "EnGhwhUEMxn_"
      }
    },
    {
      "cell_type": "code",
      "source": [
        "\n",
        "def epsilon_greedy_action(state, epsilon):\n",
        "    if random.random() < epsilon:\n",
        "        return env.action_space.sample()\n",
        "    else:\n",
        "        state = torch.FloatTensor(state).unsqueeze(0).to(device)\n",
        "        with torch.no_grad():\n",
        "            q_values = policy_net(state)\n",
        "        return int(q_values.argmax().item())\n"
      ],
      "metadata": {
        "id": "CKi82BmQMzxb"
      },
      "execution_count": 9,
      "outputs": []
    },
    {
      "cell_type": "markdown",
      "source": [
        "## Training"
      ],
      "metadata": {
        "id": "54Qw7r8QNAWO"
      }
    },
    {
      "cell_type": "code",
      "source": [
        "env.close()\n",
        "env = gym.make(\"LunarLander-v3\")\n",
        "\n",
        "def train(cfg):\n",
        "  state, _ = env.reset()\n",
        "\n",
        "  # Training starts only after reaching min replay size\n",
        "  for _ in range(cfg.min_replay_size):\n",
        "      action = env.action_space.sample()\n",
        "      next_state, reward, terminated, truncated, _ = env.step(action)\n",
        "      done = terminated or truncated\n",
        "      replay_buffer.append((state, action, reward, next_state, done))\n",
        "      if done:\n",
        "          state, _ = env.reset()\n",
        "      else:\n",
        "          state = next_state\n",
        "\n",
        "  target_update_freq = 1000  # every 1000 steps\n",
        "  all_rewards = []\n",
        "  epsilon = cfg.epsilon_start\n",
        "  steps = 0\n",
        "\n",
        "  state, _ = env.reset()\n",
        "\n",
        "  for episode in range(cfg.num_episodes):\n",
        "      state, _ = env.reset()\n",
        "      episode_reward = 0\n",
        "      done = False\n",
        "\n",
        "      while not done:\n",
        "          # Select action\n",
        "          epsilon = max(cfg.epsilon_end, epsilon * cfg.epsilon_decay)\n",
        "          action = epsilon_greedy_action(state, epsilon)\n",
        "\n",
        "          # Step\n",
        "          next_state, reward, terminated, truncated, _ = env.step(action)\n",
        "          done = terminated or truncated\n",
        "          replay_buffer.append((state, action, reward, next_state, done))\n",
        "          episode_reward += reward\n",
        "          state = next_state\n",
        "\n",
        "          # Sample batch and train\n",
        "          batch = random.sample(replay_buffer, cfg.batch_size)\n",
        "          states, actions, rewards, next_states, dones = zip(*batch)\n",
        "          states = torch.FloatTensor(states).to(device)\n",
        "          actions = torch.LongTensor(actions).unsqueeze(1).to(device)\n",
        "          rewards = torch.FloatTensor(rewards).unsqueeze(1).to(device)\n",
        "          next_states = torch.FloatTensor(next_states).to(device)\n",
        "          dones = torch.FloatTensor(dones).unsqueeze(1).to(device)\n",
        "\n",
        "          # Q(s, a)\n",
        "          q_values = policy_net(states).gather(1, actions)\n",
        "          # Q(s', a') from target network\n",
        "          next_q_values = target_net(next_states).max(1)[0].unsqueeze(1)\n",
        "          # Bellman target\n",
        "          targets = rewards + cfg.gamma * next_q_values * (1 - dones)\n",
        "\n",
        "          loss = nn.MSELoss()(q_values, targets)\n",
        "\n",
        "          optimizer.zero_grad()\n",
        "          loss.backward()\n",
        "          optimizer.step()\n",
        "\n",
        "          # Update target network\n",
        "          if steps % target_update_freq == 0:\n",
        "              target_net.load_state_dict(policy_net.state_dict())\n",
        "\n",
        "          steps += 1\n",
        "\n",
        "      all_rewards.append(episode_reward)\n",
        "      if (episode + 1) % 10 == 0:\n",
        "          avg_reward = np.mean(all_rewards[-10:]) # Get the average of the last 10 reward values\n",
        "          print(f\"Episode {episode+1}, Avg reward (last 10): {avg_reward:.2f}, Epsilon: {epsilon:.2f}\")\n",
        "\n",
        "  env.close()\n",
        "  return all_rewards\n",
        "\n",
        "cfg = Config()\n",
        "all_rewards = train(cfg)\n",
        "\n",
        "\n",
        "plt.plot(all_rewards)\n",
        "plt.xlabel('Episode')\n",
        "plt.ylabel('Total Reward')\n",
        "plt.title('DQN on LunarLander-v3')\n",
        "plt.show()\n"
      ],
      "metadata": {
        "colab": {
          "base_uri": "https://localhost:8080/",
          "height": 1000
        },
        "id": "XQHBOFdEOya1",
        "outputId": "da946d0f-9108-4ec1-e784-2ee94b3abd53"
      },
      "execution_count": 10,
      "outputs": [
        {
          "output_type": "stream",
          "name": "stderr",
          "text": [
            "<ipython-input-10-1794789559>:45: UserWarning: Creating a tensor from a list of numpy.ndarrays is extremely slow. Please consider converting the list to a single numpy.ndarray with numpy.array() before converting to a tensor. (Triggered internally at /pytorch/torch/csrc/utils/tensor_new.cpp:254.)\n",
            "  states = torch.FloatTensor(states).to(device)\n"
          ]
        },
        {
          "output_type": "stream",
          "name": "stdout",
          "text": [
            "Episode 10, Avg reward (last 10): -209.38, Epsilon: 0.99\n",
            "Episode 20, Avg reward (last 10): -240.00, Epsilon: 0.98\n",
            "Episode 30, Avg reward (last 10): -185.91, Epsilon: 0.97\n",
            "Episode 40, Avg reward (last 10): -147.94, Epsilon: 0.96\n",
            "Episode 50, Avg reward (last 10): -130.01, Epsilon: 0.95\n",
            "Episode 60, Avg reward (last 10): -172.81, Epsilon: 0.94\n",
            "Episode 70, Avg reward (last 10): -205.77, Epsilon: 0.93\n",
            "Episode 80, Avg reward (last 10): -110.06, Epsilon: 0.92\n",
            "Episode 90, Avg reward (last 10): -138.39, Epsilon: 0.92\n",
            "Episode 100, Avg reward (last 10): -141.42, Epsilon: 0.91\n",
            "Episode 110, Avg reward (last 10): -159.35, Epsilon: 0.90\n",
            "Episode 120, Avg reward (last 10): -126.19, Epsilon: 0.89\n",
            "Episode 130, Avg reward (last 10): -106.66, Epsilon: 0.88\n",
            "Episode 140, Avg reward (last 10): -111.28, Epsilon: 0.87\n",
            "Episode 150, Avg reward (last 10): -163.58, Epsilon: 0.86\n",
            "Episode 160, Avg reward (last 10): -96.52, Epsilon: 0.85\n",
            "Episode 170, Avg reward (last 10): -100.66, Epsilon: 0.84\n",
            "Episode 180, Avg reward (last 10): -101.51, Epsilon: 0.84\n",
            "Episode 190, Avg reward (last 10): -106.96, Epsilon: 0.83\n",
            "Episode 200, Avg reward (last 10): -77.36, Epsilon: 0.82\n",
            "Episode 210, Avg reward (last 10): -80.31, Epsilon: 0.81\n",
            "Episode 220, Avg reward (last 10): -113.24, Epsilon: 0.80\n",
            "Episode 230, Avg reward (last 10): -126.48, Epsilon: 0.80\n",
            "Episode 240, Avg reward (last 10): -94.69, Epsilon: 0.79\n",
            "Episode 250, Avg reward (last 10): -82.33, Epsilon: 0.78\n",
            "Episode 260, Avg reward (last 10): -85.83, Epsilon: 0.77\n",
            "Episode 270, Avg reward (last 10): -72.03, Epsilon: 0.77\n",
            "Episode 280, Avg reward (last 10): -73.78, Epsilon: 0.76\n",
            "Episode 290, Avg reward (last 10): -75.67, Epsilon: 0.75\n",
            "Episode 300, Avg reward (last 10): -70.61, Epsilon: 0.75\n",
            "Episode 310, Avg reward (last 10): -82.51, Epsilon: 0.74\n",
            "Episode 320, Avg reward (last 10): -75.34, Epsilon: 0.73\n",
            "Episode 330, Avg reward (last 10): -64.20, Epsilon: 0.72\n",
            "Episode 340, Avg reward (last 10): -60.08, Epsilon: 0.72\n",
            "Episode 350, Avg reward (last 10): -76.55, Epsilon: 0.71\n",
            "Episode 360, Avg reward (last 10): -99.99, Epsilon: 0.70\n",
            "Episode 370, Avg reward (last 10): -47.31, Epsilon: 0.70\n",
            "Episode 380, Avg reward (last 10): -76.54, Epsilon: 0.69\n",
            "Episode 390, Avg reward (last 10): -86.17, Epsilon: 0.68\n",
            "Episode 400, Avg reward (last 10): -87.83, Epsilon: 0.67\n",
            "Episode 410, Avg reward (last 10): -67.07, Epsilon: 0.67\n",
            "Episode 420, Avg reward (last 10): -71.04, Epsilon: 0.66\n",
            "Episode 430, Avg reward (last 10): -59.24, Epsilon: 0.65\n",
            "Episode 440, Avg reward (last 10): -71.26, Epsilon: 0.65\n",
            "Episode 450, Avg reward (last 10): -78.48, Epsilon: 0.64\n",
            "Episode 460, Avg reward (last 10): -73.19, Epsilon: 0.63\n",
            "Episode 470, Avg reward (last 10): -94.10, Epsilon: 0.62\n",
            "Episode 480, Avg reward (last 10): -95.42, Epsilon: 0.62\n",
            "Episode 490, Avg reward (last 10): -78.75, Epsilon: 0.61\n",
            "Episode 500, Avg reward (last 10): -68.91, Epsilon: 0.60\n",
            "Episode 510, Avg reward (last 10): -99.40, Epsilon: 0.60\n",
            "Episode 520, Avg reward (last 10): -66.81, Epsilon: 0.59\n",
            "Episode 530, Avg reward (last 10): -53.10, Epsilon: 0.58\n",
            "Episode 540, Avg reward (last 10): -50.61, Epsilon: 0.57\n",
            "Episode 550, Avg reward (last 10): -52.84, Epsilon: 0.57\n",
            "Episode 560, Avg reward (last 10): -51.91, Epsilon: 0.55\n",
            "Episode 570, Avg reward (last 10): -54.47, Epsilon: 0.54\n",
            "Episode 580, Avg reward (last 10): -65.40, Epsilon: 0.53\n",
            "Episode 590, Avg reward (last 10): -41.87, Epsilon: 0.52\n",
            "Episode 600, Avg reward (last 10): -17.10, Epsilon: 0.51\n",
            "Episode 610, Avg reward (last 10): -58.80, Epsilon: 0.50\n",
            "Episode 620, Avg reward (last 10): -57.09, Epsilon: 0.49\n",
            "Episode 630, Avg reward (last 10): -36.41, Epsilon: 0.48\n",
            "Episode 640, Avg reward (last 10): -72.46, Epsilon: 0.47\n",
            "Episode 650, Avg reward (last 10): -72.22, Epsilon: 0.46\n",
            "Episode 660, Avg reward (last 10): -48.98, Epsilon: 0.45\n",
            "Episode 670, Avg reward (last 10): -60.85, Epsilon: 0.44\n",
            "Episode 680, Avg reward (last 10): -71.87, Epsilon: 0.42\n",
            "Episode 690, Avg reward (last 10): -74.48, Epsilon: 0.41\n",
            "Episode 700, Avg reward (last 10): -55.20, Epsilon: 0.38\n",
            "Episode 710, Avg reward (last 10): -66.66, Epsilon: 0.35\n",
            "Episode 720, Avg reward (last 10): -84.54, Epsilon: 0.33\n",
            "Episode 730, Avg reward (last 10): 52.16, Epsilon: 0.30\n",
            "Episode 740, Avg reward (last 10): 98.23, Epsilon: 0.27\n",
            "Episode 750, Avg reward (last 10): 103.48, Epsilon: 0.25\n",
            "Episode 760, Avg reward (last 10): 90.56, Epsilon: 0.23\n",
            "Episode 770, Avg reward (last 10): 109.90, Epsilon: 0.21\n",
            "Episode 780, Avg reward (last 10): 159.57, Epsilon: 0.20\n",
            "Episode 790, Avg reward (last 10): 77.69, Epsilon: 0.18\n",
            "Episode 800, Avg reward (last 10): 183.38, Epsilon: 0.17\n",
            "Episode 810, Avg reward (last 10): 162.64, Epsilon: 0.16\n",
            "Episode 820, Avg reward (last 10): 170.51, Epsilon: 0.14\n",
            "Episode 830, Avg reward (last 10): 227.90, Epsilon: 0.14\n",
            "Episode 840, Avg reward (last 10): 234.01, Epsilon: 0.13\n",
            "Episode 850, Avg reward (last 10): 239.46, Epsilon: 0.12\n",
            "Episode 860, Avg reward (last 10): 184.77, Epsilon: 0.12\n",
            "Episode 870, Avg reward (last 10): 241.04, Epsilon: 0.11\n",
            "Episode 880, Avg reward (last 10): 207.26, Epsilon: 0.11\n",
            "Episode 890, Avg reward (last 10): 121.56, Epsilon: 0.10\n",
            "Episode 900, Avg reward (last 10): 225.57, Epsilon: 0.10\n",
            "Episode 910, Avg reward (last 10): 182.96, Epsilon: 0.10\n",
            "Episode 920, Avg reward (last 10): 249.73, Epsilon: 0.09\n",
            "Episode 930, Avg reward (last 10): 197.04, Epsilon: 0.09\n",
            "Episode 940, Avg reward (last 10): 236.43, Epsilon: 0.08\n",
            "Episode 950, Avg reward (last 10): 250.63, Epsilon: 0.08\n",
            "Episode 960, Avg reward (last 10): 259.93, Epsilon: 0.08\n",
            "Episode 970, Avg reward (last 10): 177.57, Epsilon: 0.07\n",
            "Episode 980, Avg reward (last 10): 205.98, Epsilon: 0.07\n",
            "Episode 990, Avg reward (last 10): 235.22, Epsilon: 0.07\n",
            "Episode 1000, Avg reward (last 10): 243.16, Epsilon: 0.07\n",
            "Episode 1010, Avg reward (last 10): 204.61, Epsilon: 0.07\n",
            "Episode 1020, Avg reward (last 10): 67.05, Epsilon: 0.06\n",
            "Episode 1030, Avg reward (last 10): 114.76, Epsilon: 0.06\n",
            "Episode 1040, Avg reward (last 10): 196.78, Epsilon: 0.06\n",
            "Episode 1050, Avg reward (last 10): 246.08, Epsilon: 0.06\n",
            "Episode 1060, Avg reward (last 10): 177.13, Epsilon: 0.05\n",
            "Episode 1070, Avg reward (last 10): 247.26, Epsilon: 0.05\n",
            "Episode 1080, Avg reward (last 10): 190.88, Epsilon: 0.05\n",
            "Episode 1090, Avg reward (last 10): 239.91, Epsilon: 0.05\n",
            "Episode 1100, Avg reward (last 10): 261.85, Epsilon: 0.05\n",
            "Episode 1110, Avg reward (last 10): 238.30, Epsilon: 0.05\n",
            "Episode 1120, Avg reward (last 10): 214.76, Epsilon: 0.05\n",
            "Episode 1130, Avg reward (last 10): 221.36, Epsilon: 0.05\n",
            "Episode 1140, Avg reward (last 10): 228.64, Epsilon: 0.05\n",
            "Episode 1150, Avg reward (last 10): 235.33, Epsilon: 0.05\n",
            "Episode 1160, Avg reward (last 10): 267.24, Epsilon: 0.05\n",
            "Episode 1170, Avg reward (last 10): 269.52, Epsilon: 0.05\n",
            "Episode 1180, Avg reward (last 10): 236.79, Epsilon: 0.05\n",
            "Episode 1190, Avg reward (last 10): 231.98, Epsilon: 0.05\n",
            "Episode 1200, Avg reward (last 10): 204.81, Epsilon: 0.05\n",
            "Episode 1210, Avg reward (last 10): 266.45, Epsilon: 0.05\n",
            "Episode 1220, Avg reward (last 10): 251.14, Epsilon: 0.05\n",
            "Episode 1230, Avg reward (last 10): 272.86, Epsilon: 0.05\n",
            "Episode 1240, Avg reward (last 10): 214.14, Epsilon: 0.05\n",
            "Episode 1250, Avg reward (last 10): 242.87, Epsilon: 0.05\n",
            "Episode 1260, Avg reward (last 10): 201.65, Epsilon: 0.05\n",
            "Episode 1270, Avg reward (last 10): 204.75, Epsilon: 0.05\n",
            "Episode 1280, Avg reward (last 10): 261.81, Epsilon: 0.05\n",
            "Episode 1290, Avg reward (last 10): 238.65, Epsilon: 0.05\n",
            "Episode 1300, Avg reward (last 10): 270.33, Epsilon: 0.05\n",
            "Episode 1310, Avg reward (last 10): 275.06, Epsilon: 0.05\n",
            "Episode 1320, Avg reward (last 10): 238.46, Epsilon: 0.05\n",
            "Episode 1330, Avg reward (last 10): 266.53, Epsilon: 0.05\n",
            "Episode 1340, Avg reward (last 10): 259.83, Epsilon: 0.05\n",
            "Episode 1350, Avg reward (last 10): 202.32, Epsilon: 0.05\n",
            "Episode 1360, Avg reward (last 10): 196.23, Epsilon: 0.05\n",
            "Episode 1370, Avg reward (last 10): 261.44, Epsilon: 0.05\n",
            "Episode 1380, Avg reward (last 10): 210.29, Epsilon: 0.05\n",
            "Episode 1390, Avg reward (last 10): 273.79, Epsilon: 0.05\n",
            "Episode 1400, Avg reward (last 10): 271.93, Epsilon: 0.05\n",
            "Episode 1410, Avg reward (last 10): 280.98, Epsilon: 0.05\n",
            "Episode 1420, Avg reward (last 10): 273.68, Epsilon: 0.05\n",
            "Episode 1430, Avg reward (last 10): 276.47, Epsilon: 0.05\n",
            "Episode 1440, Avg reward (last 10): 223.86, Epsilon: 0.05\n",
            "Episode 1450, Avg reward (last 10): 253.97, Epsilon: 0.05\n",
            "Episode 1460, Avg reward (last 10): 205.71, Epsilon: 0.05\n",
            "Episode 1470, Avg reward (last 10): 268.44, Epsilon: 0.05\n",
            "Episode 1480, Avg reward (last 10): 262.45, Epsilon: 0.05\n",
            "Episode 1490, Avg reward (last 10): 190.43, Epsilon: 0.05\n",
            "Episode 1500, Avg reward (last 10): 216.77, Epsilon: 0.05\n",
            "Episode 1510, Avg reward (last 10): 142.65, Epsilon: 0.05\n",
            "Episode 1520, Avg reward (last 10): 223.14, Epsilon: 0.05\n",
            "Episode 1530, Avg reward (last 10): 259.50, Epsilon: 0.05\n",
            "Episode 1540, Avg reward (last 10): 238.48, Epsilon: 0.05\n",
            "Episode 1550, Avg reward (last 10): 264.84, Epsilon: 0.05\n",
            "Episode 1560, Avg reward (last 10): 248.26, Epsilon: 0.05\n",
            "Episode 1570, Avg reward (last 10): 243.29, Epsilon: 0.05\n",
            "Episode 1580, Avg reward (last 10): 219.10, Epsilon: 0.05\n",
            "Episode 1590, Avg reward (last 10): 274.99, Epsilon: 0.05\n",
            "Episode 1600, Avg reward (last 10): 281.34, Epsilon: 0.05\n",
            "Episode 1610, Avg reward (last 10): 260.24, Epsilon: 0.05\n",
            "Episode 1620, Avg reward (last 10): 270.64, Epsilon: 0.05\n",
            "Episode 1630, Avg reward (last 10): 268.42, Epsilon: 0.05\n",
            "Episode 1640, Avg reward (last 10): 274.30, Epsilon: 0.05\n",
            "Episode 1650, Avg reward (last 10): 281.64, Epsilon: 0.05\n",
            "Episode 1660, Avg reward (last 10): 279.41, Epsilon: 0.05\n",
            "Episode 1670, Avg reward (last 10): 270.96, Epsilon: 0.05\n",
            "Episode 1680, Avg reward (last 10): 270.26, Epsilon: 0.05\n",
            "Episode 1690, Avg reward (last 10): 276.34, Epsilon: 0.05\n",
            "Episode 1700, Avg reward (last 10): 268.59, Epsilon: 0.05\n",
            "Episode 1710, Avg reward (last 10): 222.36, Epsilon: 0.05\n",
            "Episode 1720, Avg reward (last 10): 227.77, Epsilon: 0.05\n",
            "Episode 1730, Avg reward (last 10): 285.96, Epsilon: 0.05\n",
            "Episode 1740, Avg reward (last 10): 267.88, Epsilon: 0.05\n",
            "Episode 1750, Avg reward (last 10): 273.70, Epsilon: 0.05\n",
            "Episode 1760, Avg reward (last 10): 243.39, Epsilon: 0.05\n",
            "Episode 1770, Avg reward (last 10): 280.99, Epsilon: 0.05\n",
            "Episode 1780, Avg reward (last 10): 124.77, Epsilon: 0.05\n",
            "Episode 1790, Avg reward (last 10): 223.94, Epsilon: 0.05\n",
            "Episode 1800, Avg reward (last 10): 227.61, Epsilon: 0.05\n",
            "Episode 1810, Avg reward (last 10): 277.72, Epsilon: 0.05\n",
            "Episode 1820, Avg reward (last 10): 269.33, Epsilon: 0.05\n",
            "Episode 1830, Avg reward (last 10): 278.50, Epsilon: 0.05\n",
            "Episode 1840, Avg reward (last 10): 267.89, Epsilon: 0.05\n",
            "Episode 1850, Avg reward (last 10): 278.96, Epsilon: 0.05\n",
            "Episode 1860, Avg reward (last 10): 267.59, Epsilon: 0.05\n",
            "Episode 1870, Avg reward (last 10): 278.24, Epsilon: 0.05\n",
            "Episode 1880, Avg reward (last 10): 266.45, Epsilon: 0.05\n",
            "Episode 1890, Avg reward (last 10): 206.74, Epsilon: 0.05\n",
            "Episode 1900, Avg reward (last 10): 283.03, Epsilon: 0.05\n",
            "Episode 1910, Avg reward (last 10): 191.73, Epsilon: 0.05\n",
            "Episode 1920, Avg reward (last 10): 245.63, Epsilon: 0.05\n",
            "Episode 1930, Avg reward (last 10): 285.51, Epsilon: 0.05\n",
            "Episode 1940, Avg reward (last 10): 282.06, Epsilon: 0.05\n",
            "Episode 1950, Avg reward (last 10): 283.04, Epsilon: 0.05\n",
            "Episode 1960, Avg reward (last 10): 225.88, Epsilon: 0.05\n",
            "Episode 1970, Avg reward (last 10): 246.41, Epsilon: 0.05\n",
            "Episode 1980, Avg reward (last 10): 278.90, Epsilon: 0.05\n",
            "Episode 1990, Avg reward (last 10): 259.11, Epsilon: 0.05\n",
            "Episode 2000, Avg reward (last 10): 280.25, Epsilon: 0.05\n"
          ]
        },
        {
          "output_type": "display_data",
          "data": {
            "text/plain": [
              "<Figure size 640x480 with 1 Axes>"
            ],
            "image/png": "[encoded data removed]"
          },
          "metadata": {}
        }
      ]
    },
    {
      "cell_type": "markdown",
      "source": [
        "\n",
        "## Why did DQN perform better than Tabular Q-learning in LunarLander?\n",
        "\n",
        "DQN (Deep Q-Network) performed much better than tabular Q-learning in LunarLander because DQN uses a neural network to **generalize** across the huge, continuous state space. It can learn patterns and similarities between similar states, allowing it to handle situations it hasn’t seen before.\n",
        "\n",
        "Tabular Q-learning, on the other hand, can only remember exact state–action pairs that it has already visited (after discretizing), and treats every new state as totally unique. In LunarLander, there are so many possible states that tabular Q-learning can’t learn efficiently, and it struggles to improve even with lots of training.\n",
        "\n",
        "**In summary:**  \n",
        "DQN is designed to handle complex, high-dimensional environments like LunarLander, while tabular Q-learning is only practical in small, simple problems."
      ],
      "metadata": {
        "id": "TY8GMPwZYcWK"
      }
    }
  ]
}