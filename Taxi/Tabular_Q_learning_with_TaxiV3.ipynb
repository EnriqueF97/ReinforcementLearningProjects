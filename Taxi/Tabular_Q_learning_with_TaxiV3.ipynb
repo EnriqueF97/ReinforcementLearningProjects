{
  "cells": [
    {
      "cell_type": "markdown",
      "metadata": {},
      "source": [
        "# Tabular Q-learning for Taxi-v3\n",
        "\n",
        "*Enrique Favila Martínez, 2025*\n",
        "\n",
        "Tabular Q-learning is a foundational reinforcement learning algorithm that learns the value of taking particular actions in specific states through direct experience and trial-and-error. In the Taxi-v3 environment, the agent’s objective is to pick up a passenger at one location and drop them off at another, while navigating a discrete grid world with a finite number of possible states and actions.\n",
        "\n",
        "Because Taxi-v3 has a small and fully discrete state-action space, tabular Q-learning is both efficient and highly effective. The agent maintains a Q-table, where each entry represents the estimated expected reward for a state-action pair. As the agent explores the environment and receives feedback, it updates the Q-table using the Q-learning update rule, gradually learning an optimal policy. This setting provides a clear demonstration of how classical reinforcement learning techniques can solve decision-making problems when the state space is manageable."
      ]
    },
    {
      "cell_type": "markdown",
      "metadata": {
        "id": "130cQe2RRnTJ"
      },
      "source": [
        "\n",
        "## Required Packages and Imports\n",
        "\n",
        "Before running the code, make sure the necessary packages are installed.  \n",
        "The following commands will install the required libraries:\n"
      ]
    },
    {
      "cell_type": "code",
      "execution_count": 7,
      "metadata": {
        "colab": {
          "base_uri": "https://localhost:8080/"
        },
        "id": "fS2xt5vCTkLt",
        "outputId": "1c092f19-1b35-4654-ec69-4f01753c4aec"
      },
      "outputs": [
        {
          "name": "stdout",
          "output_type": "stream",
          "text": [
            "Note: you may need to restart the kernel to use updated packages.\n",
            "Note: you may need to restart the kernel to use updated packages.\n"
          ]
        }
      ],
      "source": [
        "%pip install --quiet --upgrade gymnasium\n",
        "%pip install --quiet pygame"
      ]
    },
    {
      "cell_type": "markdown",
      "metadata": {},
      "source": [
        "## Necessary imports\n",
        "Import the essential libraries for building and training your reinforcement learning agent.\n"
      ]
    },
    {
      "cell_type": "code",
      "execution_count": 4,
      "metadata": {
        "id": "msB8bdF7SPwX"
      },
      "outputs": [],
      "source": [
        "import gymnasium as gym\n",
        "import numpy as np\n",
        "import random\n",
        "from tqdm import trange\n",
        "\n",
        "env = gym.make(\"Taxi-v3\", render_mode=\"rgb_array\")\n"
      ]
    },
    {
      "cell_type": "markdown",
      "metadata": {
        "id": "byafvxKOSfE0"
      },
      "source": [
        "## Hyperparameter Configuration and Q-table Initialization\n",
        "\n",
        "Set up a configuration class to store the hyperparameters for tabular Q-learning.  \n",
        "These parameters control the learning rate, discount factor, exploration schedule, and number of training episodes\n"
      ]
    },
    {
      "cell_type": "code",
      "execution_count": 1,
      "metadata": {
        "id": "tvgO00IxSeC8"
      },
      "outputs": [
        {
          "ename": "NameError",
          "evalue": "name 'np' is not defined",
          "output_type": "error",
          "traceback": [
            "\u001b[0;31m---------------------------------------------------------------------------\u001b[0m",
            "\u001b[0;31mNameError\u001b[0m                                 Traceback (most recent call last)",
            "Cell \u001b[0;32mIn[1], line 10\u001b[0m\n\u001b[1;32m      7\u001b[0m     n_episodes: \u001b[38;5;28mint\u001b[39m \u001b[38;5;241m=\u001b[39m \u001b[38;5;241m5000\u001b[39m  \u001b[38;5;66;03m# number of episodes to train\u001b[39;00m\n\u001b[1;32m      9\u001b[0m \u001b[38;5;66;03m# Q-table: 500 states x 6 actions\u001b[39;00m\n\u001b[0;32m---> 10\u001b[0m Q \u001b[38;5;241m=\u001b[39m \u001b[43mnp\u001b[49m\u001b[38;5;241m.\u001b[39mzeros((env\u001b[38;5;241m.\u001b[39mobservation_space\u001b[38;5;241m.\u001b[39mn, env\u001b[38;5;241m.\u001b[39maction_space\u001b[38;5;241m.\u001b[39mn))\n\u001b[1;32m     12\u001b[0m \u001b[38;5;28;01mdef\u001b[39;00m\u001b[38;5;250m \u001b[39m\u001b[38;5;21mcreate_seed\u001b[39m():\n\u001b[1;32m     13\u001b[0m     np\u001b[38;5;241m.\u001b[39mrandom\u001b[38;5;241m.\u001b[39mseed(\u001b[38;5;241m42\u001b[39m)\n",
            "\u001b[0;31mNameError\u001b[0m: name 'np' is not defined"
          ]
        }
      ],
      "source": [
        "\n",
        "class Config:\n",
        "    alpha: float = 0.1     # learning rate\n",
        "    gamma: float = 0.99    # discount factor\n",
        "    epsilon: float  = 1.0   # initial exploration rate\n",
        "    epsilon_min: float = 0.05   # minimum exploration rate\n",
        "    epsilon_decay: float = 0.995    # exploration rate decay factor\n",
        "    n_episodes: int = 5000  # number of episodes to train\n",
        "\n",
        "# Q-table: 500 states x 6 actions\n",
        "Q = np.zeros((env.observation_space.n, env.action_space.n))\n",
        "\n",
        "def create_seed():\n",
        "    np.random.seed(42)\n",
        "    random.seed(42)\n",
        "    env.reset(seed=42)\n"
      ]
    },
    {
      "cell_type": "markdown",
      "metadata": {
        "id": "JRo2CQB4Skvl"
      },
      "source": [
        "## Training Loop\n",
        "\n",
        "The `train` function implements the main tabular Q-learning algorithm. It runs for a specified number of episodes and updates the Q-table based on the agent’s experiences.\n",
        "\n",
        "- **Epsilon-greedy strategy:**  \n",
        "  At each step, the agent chooses a random action with probability `epsilon` (exploration), or the best known action according to the Q-table (exploitation).\n",
        "- **Q-table update:**  \n",
        "  After each action, the agent receives a reward and updates the Q-value for the state–action pair using the Q-learning update rule.\n",
        "- **Epsilon decay:**  \n",
        "  After each episode, the exploration rate is decayed, gradually shifting the agent from exploration to exploitation.\n",
        "- **Progress tracking:**  \n",
        "  The `tqdm` progress bar shows training progress, and at the end, the average reward over the last 100 episodes is reported.\n"
      ]
    },
    {
      "cell_type": "code",
      "execution_count": null,
      "metadata": {
        "colab": {
          "base_uri": "https://localhost:8080/"
        },
        "id": "YuxpNihMPO-m",
        "outputId": "44e73f04-52f1-40fe-d2f3-07f8f553dd41"
      },
      "outputs": [],
      "source": [
        "from tqdm import trange\n",
        "\n",
        "def train(cfg):\n",
        "    rewards = []\n",
        "    epsilon = cfg.epsilon\n",
        "\n",
        "    for episode in trange(cfg.n_episodes):\n",
        "        state, _ = env.reset()\n",
        "        done = False\n",
        "        total_reward = 0\n",
        "\n",
        "        while not done:\n",
        "            if np.random.rand() < epsilon:\n",
        "                action = env.action_space.sample()\n",
        "            else:\n",
        "                action = np.argmax(Q[state])\n",
        "            next_state, reward, terminated, truncated, info = env.step(action)\n",
        "            done = terminated or truncated\n",
        "            Q[state, action] += cfg.alpha * (reward + cfg.gamma * np.max(Q[next_state]) - Q[state, action])\n",
        "            state = next_state\n",
        "            total_reward += reward\n",
        "\n",
        "        rewards.append(total_reward)\n",
        "        epsilon = max(cfg.epsilon_min, epsilon * cfg.epsilon_decay)\n",
        "\n",
        "        # Print rolling average every 100 episodes\n",
        "        #if (episode+1) % 100 == 0:\n",
        "            #avg_reward = np.mean(rewards[-100:])\n",
        "            #print(f\"Episode {episode+1}, Average reward (last 100): {avg_reward:.2f}, Epsilon: {epsilon:.2f}\")\n",
        "\n",
        "    env.close()\n",
        "    avg_reward = np.mean(rewards[-100:])\n",
        "    avg_reward = np.mean(rewards[-100:])\n",
        "    print(f\"Training complete. Average reward (last 100): {avg_reward:.2f}, Epsilon: {epsilon:.2f}\")\n",
        "    \n",
        "    return rewards"
      ]
    },
    {
      "cell_type": "markdown",
      "metadata": {},
      "source": [
        "### Start training\n",
        "Generate the seed (Necessary for reproducibility) and start the training process."
      ]
    },
    {
      "cell_type": "code",
      "execution_count": null,
      "metadata": {},
      "outputs": [
        {
          "name": "stderr",
          "output_type": "stream",
          "text": [
            "100%|██████████| 5000/5000 [00:01<00:00, 3661.06it/s]"
          ]
        },
        {
          "name": "stdout",
          "output_type": "stream",
          "text": [
            "Training complete. Average reward (last 100): 6.20, Epsilon: 0.05\n"
          ]
        },
        {
          "name": "stderr",
          "output_type": "stream",
          "text": [
            "\n"
          ]
        }
      ],
      "source": [
        "\n",
        "cfg = Config()\n",
        "create_seed()\n",
        "rewards = train(cfg)\n"
      ]
    },
    {
      "cell_type": "markdown",
      "metadata": {
        "id": "bD7P1RFtTGmR"
      },
      "source": [
        "## Results: Taxi-v3 Q-learning Reward Curve\n",
        "\n",
        "The graph above shows the reward received by the agent in each episode during training with tabular Q-learning on the Taxi-v3 environment.\n",
        "\n",
        "### How is this graph generated?\n",
        "\n",
        "After training, the list of total rewards per episode (returned by the `train` function) is plotted against the episode number using `matplotlib`. Each point on the plot represents the total reward the agent received in that episode.\n"
      ]
    },
    {
      "cell_type": "code",
      "execution_count": 8,
      "metadata": {
        "colab": {
          "base_uri": "https://localhost:8080/",
          "height": 472
        },
        "id": "CDOKv1TCTNBH",
        "outputId": "aeb0a2d1-3cd6-4730-a872-24cd3375f95f"
      },
      "outputs": [
        {
          "data": {
            "image/png": "[encoded data removed]",
            "text/plain": [
              "<Figure size 640x480 with 1 Axes>"
            ]
          },
          "metadata": {},
          "output_type": "display_data"
        }
      ],
      "source": [
        "import matplotlib.pyplot as plt\n",
        "\n",
        "plt.plot(rewards)\n",
        "plt.xlabel('Episode')\n",
        "plt.ylabel('Reward')\n",
        "plt.title('Taxi-v3 Q-learning Rewards')\n",
        "plt.show()"
      ]
    },
    {
      "cell_type": "markdown",
      "metadata": {},
      "source": [
        "### Testing the trained Q-learning model using pygame\n",
        "\n",
        "Now we'll evaluate the performance of our trained agent by running it in the Taxi-v3 environment with pygame rendering.\n",
        "\n",
        " **Warning: Rendered Window May Not Close Automatically**\n",
        "\n",
        " When using `render_mode=\"human\"` with Gym/Gymnasium environments (like Taxi-v3 or LunarLander), the graphical window that opens to show the environment may not close on its own after your script finishes—especially when running inside Jupyter notebooks or on macOS.\n",
        "\n",
        " This is due to how the rendering backend handles window events. The window can become unresponsive if the Python process is still running or if it was opened from a notebook.\n",
        "\n",
        " **How to close the window:**\n",
        " - Force exit.\n",
        " - If running from a standalone script, try closing the window normally (using the close button).\n",
        " - If that fails, or if you’re in a notebook and the window is frozen, you can force-close it by killing the Python process:\n",
        "\n",
        " ```bash\n",
        " ps aux | grep python\n",
        " kill <PID>\n",
        " ```\n",
        " Replace `<PID>` with the process ID you find in the output.\n",
        "\n",
        " If you’re unsure, you can always close your terminal or restart your kernel to clean up any stuck processes."
      ]
    },
    {
      "cell_type": "code",
      "execution_count": null,
      "metadata": {},
      "outputs": [
        {
          "name": "stdout",
          "output_type": "stream",
          "text": [
            "Episode 1 finished with reward 12\n",
            "Episode 2 finished with reward 4\n",
            "Episode 3 finished with reward 4\n",
            "Episode 4 finished with reward 4\n",
            "Episode 5 finished with reward 8\n"
          ]
        },
        {
          "ename": "",
          "evalue": "",
          "output_type": "error",
          "traceback": [
            "\u001b[1;31mThe Kernel crashed while executing code in the current cell or a previous cell. \n",
            "\u001b[1;31mPlease review the code in the cell(s) to identify a possible cause of the failure. \n",
            "\u001b[1;31mClick <a href='https://aka.ms/vscodeJupyterKernelCrash'>here</a> for more info. \n",
            "\u001b[1;31mView Jupyter <a href='command:jupyter.viewOutput'>log</a> for further details."
          ]
        }
      ],
      "source": [
        "\n",
        "import time\n",
        "env = gym.make(\"Taxi-v3\", render_mode=\"human\")  \n",
        "\n",
        "num_episodes = 10\n",
        "\n",
        "for ep in range(num_episodes):\n",
        "    state, _ = env.reset()\n",
        "    done = False\n",
        "    total_reward = 0\n",
        "\n",
        "    env.render()\n",
        "    time.sleep(1)  # Pause before starting\n",
        "\n",
        "    while not done:\n",
        "        action = np.argmax(Q[state])  # Use the learned policy\n",
        "        next_state, reward, terminated, truncated, info = env.step(action)\n",
        "        done = terminated or truncated\n",
        "        env.render()\n",
        "        time.sleep(0.1)  # Slow down so you can watch\n",
        "        state = next_state\n",
        "        total_reward += reward\n",
        "\n",
        "    print(f\"Episode {ep+1} finished with reward {total_reward}\")\n",
        "\n",
        "time.sleep(2)  # Pause before closing\n",
        "env.close()"
      ]
    },
    {
      "cell_type": "markdown",
      "metadata": {},
      "source": [
        "### Conclusion: Tabular Q-learning with Taxi-v3\n",
        "\n",
        "The **Taxi-v3** environment is an ideal playground for tabular Q-learning. Because the state and action spaces are fully discrete and manageable in size, the agent can efficiently learn optimal behavior by directly updating and referencing the Q-table. \n",
        "\n",
        "This approach highlights the strengths of *classic reinforcement learning*: simple algorithms, interpretable results, and reliable convergence when the problem space is small and well-structured. Through this project, we see that tabular Q-learning remains a practical and effective solution for problems where all possible states and actions can be **explicitly** represented."
      ]
    }
  ],
  "metadata": {
    "colab": {
      "provenance": []
    },
    "kernelspec": {
      "display_name": "virtualenv",
      "language": "python",
      "name": "python3"
    },
    "language_info": {
      "codemirror_mode": {
        "name": "ipython",
        "version": 3
      },
      "file_extension": ".py",
      "mimetype": "text/x-python",
      "name": "python",
      "nbconvert_exporter": "python",
      "pygments_lexer": "ipython3",
      "version": "3.9.23"
    }
  },
  "nbformat": 4,
  "nbformat_minor": 0
}
